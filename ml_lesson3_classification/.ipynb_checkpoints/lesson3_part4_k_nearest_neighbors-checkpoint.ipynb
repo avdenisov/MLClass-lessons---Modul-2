{
 "cells": [
  {
   "cell_type": "markdown",
   "metadata": {},
   "source": [
    "# MLClass. \"Прикладной анализ данных\"\n",
    "# Модуль \"Машинное обучение с помощью Python\"\n",
    "<img src=\"../img/mlclass_logo.jpg\" height=\"240\" width=\"240\">\n",
    "## Автор материала: преподаватель ФКН НИУ ВШЭ Кашницкий Юрий\n",
    "Материал распространяется на условиях лицензии <a href=\"http://creativecommons.org/licenses/by-sa/4.0/\">Creative Commons Attribution-Share Alike 4.0</a>. Можно использовать в любых целях, но с обязательным упоминанием автора курса и аффилиации."
   ]
  },
  {
   "cell_type": "markdown",
   "metadata": {},
   "source": [
    "# Урок 3. Обучение с учителем. Алгоритмы классификации\n",
    "## Часть 4. Метод ближайших соседей"
   ]
  },
  {
   "cell_type": "markdown",
   "metadata": {},
   "source": [
    "## Суть метода"
   ]
  },
  {
   "cell_type": "markdown",
   "metadata": {},
   "source": [
    "Метод ближайших соседей (k Nearest Neighbors, или kNN) — тоже очень популярный метод классификации, также иногда используемый в задачах регрессии. Это, наравне с деревом решений, один из самых понятных подходов к классификации. На уровне интуиции суть метода такова: посмотри на соседей, какие преобладают, таков и ты. Формально основой метода является гипотезой компактности: если метрика расстояния между примерами введена достаточно удачно, то схожие примеры гораздо чаще лежат в одном классе, чем в разных. "
   ]
  },
  {
   "cell_type": "markdown",
   "metadata": {},
   "source": [
    "Согласно методу ближайших соседей, тестовый пример (зеленый шарик) будет отнесен к классу \"синие\", а не \"красные\".\n",
    "\n",
    "<img src=\"../img/kNN.png\">"
   ]
  },
  {
   "cell_type": "markdown",
   "metadata": {},
   "source": [
    "Например, если не знаешь, какой тип товара указать в объявлении для Bluetooth-гарнитуры, можешь найти 5 похожих гарнитур, и если 4 из них отнесены к категории \"Аксессуары\", и только один - к категории \"Техника\", то здравый смысл подскажет для своего объявления тоже указать категорию \"Аксессуары\"."
   ]
  },
  {
   "cell_type": "markdown",
   "metadata": {},
   "source": [
    "Для классификации каждого из объектов тестовой выборки необходимо последовательно выполнить следующие операции:\n",
    " - Вычислить расстояние до каждого из объектов обучающей выборки\n",
    " - Отобрать k объектов обучающей выборки, расстояние до которых минимально\n",
    " - Класс классифицируемого объекта — это класс, наиболее часто встречающийся среди k ближайших соседей"
   ]
  },
  {
   "cell_type": "markdown",
   "metadata": {},
   "source": [
    "Примечательное свойство таково подхода  - его ленивость. Это значит, что вычисления начинаются только в момент классификации тестового примера, а заранее, только при  наличии обучающих примеров, никакая модель не стоится. В этом отличие, например, от ранее рассмотренного дерева решений, где сначала на основе обучающей выборки строится дерево, а потом относительно быстро происходит классификация тестовых примеров. "
   ]
  },
  {
   "cell_type": "markdown",
   "metadata": {},
   "source": [
    "Качество классификации методом ближайших соседей зависит от нескольких параметров:\n",
    " - число соседей\n",
    " - метрика расстояния между объектами (часто используются метрика Хэмминга, евклидово расстояние, косинусное расстояние и расстояние Минковского). Отметим, что при использовании большинства метрик значения признаков надо нормализовать. Условно говоря, чтобы признак \"Зарплата\" с диапазоном значений до 100 тысяч не вносил больший вклад в расстояние, чем \"Возраст\" со значениями до 100. \n",
    " - веса соседей (соседи тестового примера могут входить с разными весами, например, чем дальше пример, тем с меньшим коэффициентом учитывается его \"голос\")"
   ]
  },
  {
   "cell_type": "markdown",
   "metadata": {},
   "source": [
    "## Класс KNeighborsClassifier в Scikit-learn"
   ]
  },
  {
   "cell_type": "markdown",
   "metadata": {},
   "source": [
    "Основные параметры класса sklearn.neighbors.KNeighborsClassifier:\n",
    " - weights: \"uniform\" (все веса равны), \"distance\" (вес обратно пропорционален расстоянию до тестового примера) или другая определенная пользователем функция\n",
    " - algorithm (опционально): \"brute\", \"ball_tree\", \"KD_tree\", или \"auto\". В первом случае ближайшие соседи для каждого тестового примера считаются перебором обучающей выборки. Во втором и третьем - расстояние между примерами хранятся в дереве, что ускоряет нахождение ближайших соседей. В случае указания параметра \"auto\" подходящий способ нахождения соседей будет выбран автматически на основе обучающей выборки.\n",
    " - leaf_size (опционально): порог переключения на полный перебор в случае выбора BallTree или KDTree для нахождения соседей\n",
    " - metric: \"minkowski\", \"manhattan\", \"euclidean\", \"chebyshev\" и другие"
   ]
  },
  {
   "cell_type": "markdown",
   "metadata": {},
   "source": [
    "## Пример"
   ]
  },
  {
   "cell_type": "markdown",
   "metadata": {},
   "source": [
    "Рассмотрим пример на применение метода ближайших соседей из библиотеки Scikit-learn для набора данных о параметрах цветков ириса (ирисы Фишера, один из самых известных в машинном обучении наборов данных). В этом наборе 150 экземплярах ириса, по 50 экземпляров из трёх видов — ирис щетинистый (Iris setosa), ирис виргинский (Iris virginica) и ирис разноцветный (Iris versicolor). Для каждого экземпляра указаны четыре характеристики (в сантиметрах): длина наружной доли околоцветника (sepal length), ширина наружной доли околоцветника (sepal width), длина внутренней доли околоцветника (petal length) и ширина внутренней доли околоцветника (petal width)."
   ]
  },
  {
   "cell_type": "code",
   "execution_count": 1,
   "metadata": {
    "collapsed": false
   },
   "outputs": [],
   "source": [
    "%matplotlib inline\n",
    "import pandas as pd\n",
    "import numpy as np\n",
    "import pylab as plt\n",
    "from matplotlib.colors import ListedColormap\n",
    "from sklearn import neighbors, datasets\n",
    "from sklearn import preprocessing"
   ]
  },
  {
   "cell_type": "raw",
   "metadata": {},
   "source": [
    "Загружаем данные. В Scikit-learn есть специальный метод для загрузки набора данных iris. Для простоты визуализации выберем только первые два признака - длину и ширину наружной доли околоцветника. В дальнейшем мы познакомимся с методами визуализации данных, позволяющими использовать все признаки, а не оставлять только два. "
   ]
  },
  {
   "cell_type": "code",
   "execution_count": 2,
   "metadata": {
    "collapsed": false
   },
   "outputs": [],
   "source": [
    "iris = datasets.load_iris()\n",
    "X = iris.data[:, :2] \n",
    "y = iris.target"
   ]
  },
  {
   "cell_type": "markdown",
   "metadata": {},
   "source": [
    "Для классификации будут использоваться 15 соседей тестового объекта. Далее задаются параметры визуализации - шаг сетки (по сути, разрешение картинки) и цветовые схемы. "
   ]
  },
  {
   "cell_type": "code",
   "execution_count": 3,
   "metadata": {
    "collapsed": true
   },
   "outputs": [],
   "source": [
    "n_neighbors = 15\n",
    "h = .02  \n",
    "cmap_light = ListedColormap(['#FFAAAA', '#AAFFAA', '#AAAAFF'])\n",
    "cmap_bold = ListedColormap(['#FF0000', '#00FF00', '#0000FF'])"
   ]
  },
  {
   "cell_type": "markdown",
   "metadata": {},
   "source": [
    "Обучаем классификатор для двух типов взвешивания соседей - либо все с равными весами (параметр weights='uniform'), либо веса обратно пропорциональны расстоянию до тестового примера (параметр weights='distance')."
   ]
  },
  {
   "cell_type": "code",
   "execution_count": 4,
   "metadata": {
    "collapsed": false
   },
   "outputs": [
    {
     "name": "stderr",
     "output_type": "stream",
     "text": [
      "//anaconda/lib/python2.7/site-packages/matplotlib/collections.py:590: FutureWarning: elementwise comparison failed; returning scalar instead, but in the future will perform elementwise comparison\n",
      "  if self._edgecolors == str('face'):\n"
     ]
    },
    {
     "data": {
      "image/png": "[encoded data removed]",
      "text/plain": [
       "<matplotlib.figure.Figure at 0x10464fc50>"
      ]
     },
     "metadata": {},
     "output_type": "display_data"
    },
    {
     "data": {
      "image/png": "[encoded data removed]",
      "text/plain": [
       "<matplotlib.figure.Figure at 0x109040110>"
      ]
     },
     "metadata": {},
     "output_type": "display_data"
    }
   ],
   "source": [
    "for weights in ['uniform', 'distance']:\n",
    "    # создаем экземпляр классифкатора и передаем ему обучающую выборку\n",
    "    clf = neighbors.KNeighborsClassifier(n_neighbors, weights=weights)\n",
    "    clf.fit(X, y)\n",
    "\n",
    "    # Строим разделяющию кривую Plot the decision boundary. Для каждой точки\n",
    "    # из [x_min, m_max]x[y_min, y_max] указываем цвет в соответствии с предсказанным классом \n",
    "    x_min, x_max = X[:, 0].min() - 1, X[:, 0].max() + 1\n",
    "    y_min, y_max = X[:, 1].min() - 1, X[:, 1].max() + 1\n",
    "    xx, yy = np.meshgrid(np.arange(x_min, x_max, h),\n",
    "                         np.arange(y_min, y_max, h))\n",
    "    Z = clf.predict(np.c_[xx.ravel(), yy.ravel()])\n",
    "\n",
    "    Z = Z.reshape(xx.shape)\n",
    "    plt.figure()\n",
    "    plt.pcolormesh(xx, yy, Z, cmap=cmap_light)\n",
    "\n",
    "    # Отображаем также обучающие примеры\n",
    "    plt.scatter(X[:, 0], X[:, 1], c=y, cmap=cmap_bold)\n",
    "    plt.xlim(xx.min(), xx.max())\n",
    "    plt.ylim(yy.min(), yy.max())\n",
    "    plt.title(\"3-Class classification (k = %i, weights = '%s')\"\n",
    "              % (n_neighbors, weights))\n",
    "\n",
    "plt.show()"
   ]
  },
  {
   "cell_type": "markdown",
   "metadata": {},
   "source": [
    "# Плюсы и минусы подхода"
   ]
  },
  {
   "cell_type": "markdown",
   "metadata": {},
   "source": [
    "В этом разделе мы познакомились с самым простым и интуитивно понятным методом классификации, деревом решений, и посмотрели, как он используется в библиотеке Scikit-learn в задаче классификации. \n",
    "Пока мы не обсуждали, как оценивать качество классификации и как бороться с переобучением деревьев решений. \n",
    "Отметим плюсы и минусы данного подхода.\n",
    "\n",
    "Плюсы:\n",
    " - Легко расширять обучающую выборку\n",
    " - Хорошая интерпретация, можно объяснить, почему тестовый пример был классифицирован именно так\n",
    " \n",
    "Минусы:\n",
    " - Большая вычислительная сложность\n",
    " - Если в наборе данных много переменных, то трудно подобрать подходящие веса и определить, какие переменные несущественны\n",
    " - Зависимость от выбранной метрики расстояния между примерами. Выбор по умолчанию евклидового расстояния чаще всего ничем не обоснован\n",
    " - Нет теоретических оснований выбора определенного числа соседей - только перебор. В случае малого числа соседей метод чувствителен к выбросам \n",
    " - Можно отыскать хорошее решение перебором параметров, но для большого набора данных это отнимает много времени"
   ]
  },
  {
   "cell_type": "markdown",
   "metadata": {},
   "source": [
    "**Пример**\n",
    "\n",
    "Посмотрим kNN в действии на данных по автострахованию. <a href=\"https://inclass.kaggle.com/c/mlclass-2015-car-insurance\">Соревнование</a>\n",
    "\n",
    "Считаем, помимо прочих признаков, номер региона по номеру автомобиля."
   ]
  },
  {
   "cell_type": "code",
   "execution_count": 5,
   "metadata": {
    "collapsed": true
   },
   "outputs": [],
   "source": [
    "from sklearn.neighbors import KNeighborsClassifier\n",
    "from sklearn.grid_search import GridSearchCV"
   ]
  },
  {
   "cell_type": "code",
   "execution_count": 6,
   "metadata": {
    "collapsed": false
   },
   "outputs": [],
   "source": [
    "def load_train_and_test(path_to_train, path_to_test):\n",
    "    # read data into pandas data frames\n",
    "    train_df = pd.read_csv(path_to_train,\n",
    "                           header=0, index_col=0)\n",
    "    test_df = pd.read_csv(path_to_test,\n",
    "                          header=0, index_col=0)\n",
    "\n",
    "    def extract_region(auto_number):\n",
    "        \"\"\"\n",
    "        Returns region based on the auto number\n",
    "        X796TH96RUS -> 96\n",
    "        E432XX77RUS -> 77\n",
    "        If there are more than 2-3 digits before 'RUS', \n",
    "        returns \"not-auto-num\"\n",
    "        \"\"\"\n",
    "        index = auto_number.rindex(\"RUS\") - 1\n",
    "        while auto_number[index].isdigit():\n",
    "            index -= 1\n",
    "        auto_number = auto_number[index + 1 :auto_number.rindex('RUS')]\n",
    "        return auto_number if len(auto_number) <= 3 else \"not-auto-num\"\n",
    "\n",
    "    # auto brand and too_much are categorical so we encode these columns\n",
    "    # ex: \"Volvo\" -> 1, \"Audi\" -> 2 etc\n",
    "    auto_brand_encoder = preprocessing.LabelEncoder()\n",
    "    auto_brand_encoder.fit(train_df['auto_brand'])\n",
    "    target_encoder = preprocessing.LabelEncoder()\n",
    "    target_encoder.fit(train_df['too_much'])\n",
    "    region_encoder = preprocessing.LabelEncoder()\n",
    "    regions_train = train_df['auto_number'].apply(extract_region)\n",
    "    region_encoder.fit(regions_train)\n",
    "\n",
    "    train_df['region'] = region_encoder\\\n",
    "                        .transform(regions_train)\n",
    "    train_df['auto_brand'] = auto_brand_encoder\\\n",
    "                            .transform(train_df['auto_brand'])\n",
    "\n",
    "    # form a numpy array to fit as train set labels\n",
    "    y = train_df['too_much']\n",
    "\n",
    "    train_df = train_df.drop(['auto_number', 'too_much'], axis=1)\n",
    "\n",
    "    test_df['region'] = region_encoder\\\n",
    "                        .transform(test_df['auto_number']\\\n",
    "                                   .apply(extract_region))\n",
    "    test_df['auto_brand'] = auto_brand_encoder\\\n",
    "                            .transform(test_df['auto_brand'])\n",
    "    test_df = test_df.drop('auto_number', axis=1)\n",
    "    return train_df, y, test_df"
   ]
  },
  {
   "cell_type": "code",
   "execution_count": 7,
   "metadata": {
    "collapsed": false
   },
   "outputs": [],
   "source": [
    "X_train, y, X_test = load_train_and_test(\"../data/car_insurance_train.csv\",\n",
    "                                         \"../data/car_insurance_test.csv\")"
   ]
  },
  {
   "cell_type": "code",
   "execution_count": 8,
   "metadata": {
    "collapsed": false
   },
   "outputs": [
    {
     "data": {
      "text/html": [
       "<div>\n",
       "<table border=\"1\" class=\"dataframe\">\n",
       "  <thead>\n",
       "    <tr style=\"text-align: right;\">\n",
       "      <th></th>\n",
       "      <th>auto_brand</th>\n",
       "      <th>compensated</th>\n",
       "      <th>region</th>\n",
       "    </tr>\n",
       "    <tr>\n",
       "      <th>id</th>\n",
       "      <th></th>\n",
       "      <th></th>\n",
       "      <th></th>\n",
       "    </tr>\n",
       "  </thead>\n",
       "  <tbody>\n",
       "    <tr>\n",
       "      <th>1</th>\n",
       "      <td>2</td>\n",
       "      <td>3200</td>\n",
       "      <td>21</td>\n",
       "    </tr>\n",
       "    <tr>\n",
       "      <th>2</th>\n",
       "      <td>5</td>\n",
       "      <td>6500</td>\n",
       "      <td>12</td>\n",
       "    </tr>\n",
       "    <tr>\n",
       "      <th>3</th>\n",
       "      <td>2</td>\n",
       "      <td>2100</td>\n",
       "      <td>9</td>\n",
       "    </tr>\n",
       "    <tr>\n",
       "      <th>4</th>\n",
       "      <td>2</td>\n",
       "      <td>2000</td>\n",
       "      <td>4</td>\n",
       "    </tr>\n",
       "    <tr>\n",
       "      <th>5</th>\n",
       "      <td>2</td>\n",
       "      <td>6100</td>\n",
       "      <td>21</td>\n",
       "    </tr>\n",
       "  </tbody>\n",
       "</table>\n",
       "</div>"
      ],
      "text/plain": [
       "    auto_brand  compensated  region\n",
       "id                                 \n",
       "1            2         3200      21\n",
       "2            5         6500      12\n",
       "3            2         2100       9\n",
       "4            2         2000       4\n",
       "5            2         6100      21"
      ]
     },
     "execution_count": 8,
     "metadata": {},
     "output_type": "execute_result"
    }
   ],
   "source": [
    "train_df = pd.read_csv(\"../data/car_insurance_train.csv\")\n",
    "train_df.head()\n",
    "X_train.head()"
   ]
  },
  {
   "cell_type": "code",
   "execution_count": 9,
   "metadata": {
    "collapsed": false
   },
   "outputs": [
    {
     "name": "stdout",
     "output_type": "stream",
     "text": [
      "Fitting 3 folds for each of 5 candidates, totalling 15 fits\n",
      "('Best params:', {'n_neighbors': 11})\n",
      "('Best cross validaton score', 0.67809057527539784)\n"
     ]
    },
    {
     "name": "stderr",
     "output_type": "stream",
     "text": [
      "[Parallel(n_jobs=4)]: Done   1 jobs       | elapsed:    0.0s\n",
      "[Parallel(n_jobs=4)]: Done   9 out of  15 | elapsed:    0.1s remaining:    0.0s\n",
      "[Parallel(n_jobs=4)]: Done  15 out of  15 | elapsed:    0.1s finished\n"
     ]
    }
   ],
   "source": [
    "knn_params = {'n_neighbors': list(range(3, 12, 2))}\n",
    "\n",
    "# make an instance of grid searcher\n",
    "best_clf = GridSearchCV(KNeighborsClassifier(), \n",
    "                        knn_params, \n",
    "                        verbose=True, n_jobs=4)\n",
    "\n",
    "# fit X and y (train set and corresponding labels) to the classifier\n",
    "best_clf.fit(X_train, y)\n",
    "\n",
    "print(\"Best params:\", best_clf.best_params_)\n",
    "print(\"Best cross validaton score\", best_clf.best_score_)\n",
    "\n",
    "# make predictions. This results in 0.74 AUC score\n",
    "predicted_labels = best_clf.predict(X_test)"
   ]
  },
  {
   "cell_type": "markdown",
   "metadata": {},
   "source": [
    "**У такой посылки результат - 0.74 AUC на публичной выборке**"
   ]
  },
  {
   "cell_type": "markdown",
   "metadata": {},
   "source": [
    "<img src=\"../img/knn_cv-test_acc_car_insurance.png\">"
   ]
  }
 ],
 "metadata": {
  "kernelspec": {
   "display_name": "Python 2",
   "language": "python",
   "name": "python2"
  },
  "language_info": {
   "codemirror_mode": {
    "name": "ipython",
    "version": 2
   },
   "file_extension": ".py",
   "mimetype": "text/x-python",
   "name": "python",
   "nbconvert_exporter": "python",
   "pygments_lexer": "ipython2",
   "version": "2.7.10"
  },
  "name": "2_1_3_kNN.ipynb"
 },
 "nbformat": 4,
 "nbformat_minor": 0
}
