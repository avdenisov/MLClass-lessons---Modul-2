{
 "cells": [
  {
   "cell_type": "markdown",
   "metadata": {},
   "source": [
    "# MLClass. \"Прикладной анализ данных\". Курс \"Машинное обучение с помощью Python\".\n",
    "<img src=\"..\\img\\mlclass_logo.jpg\" height=\"240\" width=\"240\">\n",
    "## Авторы материала: преподаватель ФКН НИУ ВШЭ Кашницкий Юрий, магистрант ВМК МГУ Колмаков Евгений\n",
    "Материал распространяется на условиях лицензии <a href=\"http://creativecommons.org/licenses/by-sa/4.0/\">Creative Commons Attribution-Share Alike 4.0</a>. Можно использовать в любых целях, но с обязательным упоминанием автора курса и аффилиации."
   ]
  },
  {
   "cell_type": "markdown",
   "metadata": {},
   "source": [
    "# Урок 3. Обучение с учителем. Алгоритмы классификации\n",
    "## Часть 6. Основные метрики качества классификации"
   ]
  },
  {
   "cell_type": "markdown",
   "metadata": {},
   "source": [
    "### Матрица ошибок\n",
    "Существует множество различных числовых характеристик, позволяющих измерить качество бинарного классификатора. В случае двух классов возможны всего 4 исхода при классификации данного объекта. Их удобно отображать с помощью матрицы ошибок (confusion matrix).Это таблица с двумя строками и двумя столбцами, в ячейках которой указаны следующие значения:\n",
    "- $TP$ = число верно классифицированных положительных примеров\n",
    "- $FP$ = число отрицательных примеров, классифицированных положительно (ошибки первого рода)\n",
    "- $TN$ = число верно классифицированных отрицательных примеров\n",
    "- $FN$ = число положительных примеров, классифицированных отрицательно (ошибки второго рода)\n",
    "<center>\n",
    "<img src=\"..\\img\\contingency.png\" width = \"500\">\n",
    "</center>\n",
    "\n",
    "Получить такую таблицу можно с помощью функции sklearn.metrics.confusion_matrix, передав ей на вход истинные и предсказанные классификатором метки."
   ]
  },
  {
   "cell_type": "code",
   "execution_count": 1,
   "metadata": {
    "collapsed": false
   },
   "outputs": [
    {
     "data": {
      "text/plain": [
       "array([[2, 1],\n",
       "       [3, 2]])"
      ]
     },
     "execution_count": 1,
     "metadata": {},
     "output_type": "execute_result"
    }
   ],
   "source": [
    "import numpy as np\n",
    "%matplotlib inline\n",
    "import matplotlib.pyplot as plt\n",
    "from sklearn import metrics\n",
    "\n",
    "true_labels = np.array([0, 1, 0, 0, 1, 1, 1, 1])\n",
    "predicted_labels = np.array([0, 1, 1, 0, 0, 1, 0, 0])\n",
    "\n",
    "M = metrics.confusion_matrix(true_labels, predicted_labels)\n",
    "M"
   ]
  },
  {
   "cell_type": "markdown",
   "metadata": {},
   "source": [
    "### Характеристики бинарного классификатора\n",
    "Основываясь на данной таблице, можно ввести несколько величин, характеризующих бинарный классификатор:\n",
    "$$TPR = \\frac{TP}{TP + FN},\\quad SPC = \\frac{TN}{TN + FP},\\quad PPV = \\frac{TP}{TP + FP},\\quad FRP = 1 - SPC,$$\n",
    "\n",
    "$$ACC = \\frac{TP + TN}{TP + TN + FP + FN},\\quad F1 = 2\\frac{PPV\\cdot TRP}{PPV + TPR}.$$\n",
    "\n",
    "Полнота $TPR$ (True positive rate, recall, sensitivity) - доля верно классифицированных положительных примеров среди всех положительных примеров.\n",
    "\n",
    "Специфичность $SPC$ (Specificity, true negative rate) - доля верно классифицированных отрицательных примеров среди всех отрицательных примеров.\n",
    "\n",
    "Точность $PPV$ (Positive predictive value, precision) - доля верно классифицированных положительных примеров среди всех примеров, классифицированных положительно.\n",
    "\n",
    "$FPR$ (False positive rate) - доля ошибочно классифицированных отрицательных примеров среди всех отрицательных примеров.\n",
    "\n",
    "$ACC$ (Accuracy) - доля верно классифицированных примеров среди всех примеров. Основная характеристика качества классификации.\n",
    "\n",
    "$F1$ (F1-measure) - среднее гармоническое точности и полноты. Позволяет учесть обе характеристики одновременно.\n",
    "\n",
    "\n",
    "\n"
   ]
  },
  {
   "cell_type": "code",
   "execution_count": 2,
   "metadata": {
    "collapsed": false
   },
   "outputs": [
    {
     "data": {
      "text/plain": [
       "(0.66666666666666663, 0.40000000000000002, 0.5, 0.5)"
      ]
     },
     "execution_count": 2,
     "metadata": {},
     "output_type": "execute_result"
    }
   ],
   "source": [
    "PPV = metrics.precision_score(true_labels, predicted_labels)\n",
    "TPR = metrics.recall_score(true_labels, predicted_labels)\n",
    "F1 = metrics.f1_score(true_labels, predicted_labels)\n",
    "ACC = metrics.accuracy_score(true_labels, predicted_labels)\n",
    "PPV, TPR, F1, ACC"
   ]
  },
  {
   "cell_type": "markdown",
   "metadata": {},
   "source": [
    "### ROC-кривая и AUC\n",
    "\n",
    "Большинство бинарных классификаторов имеют вид $a(x) = \\mbox{sign}(f(x, w) - w_0)$, где $w, w_0$ - параметры алгоритма. То есть сначала строится разделяющая поверхность $f(x, w) = w_0$, после чего объекты, находяющиеся по одну сторону от неё классифицируются положительно, по другую - отрицательно. \n",
    "\n",
    "ROC-кривая (Receiver Operating Characteristic) - это графическая характеристика качества бинарного классификатора, выражающая зависимость TPR от FPR при варьировании порога решающего правила. Она наглядно представляет, каким будет качество классификации при различных значениях $w_0$ и фиксированном значении $w$. \n",
    "\n",
    "ROC-кривая проходит через точки (0, 0) и (1, 1) и монотонно не убывает. Чем ближе кривая внутри квадрата $[0, 1]\\times[0, 1]$ к левому верхнему углу, тем лучше. Идеальный вариант - кривая, проходящая через три точки: (0, 0), (1, 1) и (0, 1). Диагональ данного квадрата соответствует случайному гаданию. Типичная ROC-кривая для классификатора соответствует кривой B на рисунке.\n",
    "<center>\n",
    "<img src=\"../img/ROC.jpg\" width = \"350\">\n",
    "</center>\n",
    "На практике ROC-кривую всегда оценивают по независомой тестовой выборке, для того чтобы избежать переобучения.\n",
    "\n",
    "Площадь под ROC-кривой AUC (Area Under Curve) является количественной характеристикой качества классификации, не зависящей от соотношения цен ошибок. Чем больше значение AUC, тем «лучше» модель классификации. "
   ]
  },
  {
   "cell_type": "code",
   "execution_count": 3,
   "metadata": {
    "collapsed": false,
    "scrolled": true
   },
   "outputs": [
    {
     "name": "stdout",
     "output_type": "stream",
     "text": [
      "(array([ 0.     ,  0.00625,  0.00625,  0.00625,  0.0125 ,  0.0125 ,\n",
      "        0.0125 ,  0.0125 ,  0.0125 ,  0.0125 ,  0.0125 ,  0.0125 ,\n",
      "        0.0125 ,  0.0125 ,  0.0125 ,  0.0125 ,  0.0125 ,  0.0125 ,\n",
      "        0.0125 ,  0.01875,  0.01875,  0.01875,  0.01875,  0.01875,\n",
      "        0.01875,  0.01875,  0.025  ,  0.025  ,  0.03125,  0.0375 ,\n",
      "        0.0375 ,  0.04375,  0.04375,  0.04375,  0.04375,  0.04375,\n",
      "        0.04375,  0.04375,  0.04375,  0.05   ,  0.05   ,  0.05625,\n",
      "        0.0625 ,  0.0625 ,  0.0625 ,  0.0625 ,  0.06875,  0.06875,\n",
      "        0.06875,  0.06875,  0.075  ,  0.075  ,  0.08125,  0.0875 ,\n",
      "        0.0875 ,  0.09375,  0.1    ,  0.1    ,  0.1    ,  0.10625,\n",
      "        0.1125 ,  0.11875,  0.11875,  0.125  ,  0.13125,  0.1375 ,\n",
      "        0.14375,  0.15   ,  0.15625,  0.1625 ,  0.16875,  0.16875,\n",
      "        0.175  ,  0.175  ,  0.175  ,  0.175  ,  0.18125,  0.18125,\n",
      "        0.1875 ,  0.1875 ,  0.1875 ,  0.19375,  0.2    ,  0.2    ,\n",
      "        0.20625,  0.2125 ,  0.21875,  0.21875,  0.225  ,  0.23125,\n",
      "        0.23125,  0.23125,  0.2375 ,  0.24375,  0.24375,  0.25   ,\n",
      "        0.25625,  0.2625 ,  0.26875,  0.26875,  0.275  ,  0.28125,\n",
      "        0.2875 ,  0.29375,  0.3    ,  0.30625,  0.3125 ,  0.3125 ,\n",
      "        0.31875,  0.325  ,  0.33125,  0.3375 ,  0.3375 ,  0.34375,\n",
      "        0.35   ,  0.35   ,  0.35   ,  0.35625,  0.3625 ,  0.36875,\n",
      "        0.375  ,  0.38125,  0.3875 ,  0.39375,  0.4    ,  0.4    ,\n",
      "        0.40625,  0.40625,  0.40625,  0.4125 ,  0.41875,  0.425  ,\n",
      "        0.43125,  0.4375 ,  0.4375 ,  0.44375,  0.45   ,  0.45625,\n",
      "        0.4625 ,  0.4625 ,  0.46875,  0.475  ,  0.475  ,  0.48125,\n",
      "        0.4875 ,  0.49375,  0.5    ,  0.5    ,  0.50625,  0.5125 ,\n",
      "        0.51875,  0.525  ,  0.53125,  0.5375 ,  0.54375,  0.55   ,\n",
      "        0.55625,  0.5625 ,  0.56875,  0.575  ,  0.58125,  0.5875 ,\n",
      "        0.59375,  0.6    ,  0.60625,  0.6125 ,  0.61875,  0.625  ,\n",
      "        0.63125,  0.6375 ,  0.64375,  0.65   ,  0.65625,  0.65625,\n",
      "        0.6625 ,  0.66875,  0.675  ,  0.68125,  0.6875 ,  0.69375,\n",
      "        0.7    ,  0.7    ,  0.70625,  0.7125 ,  0.71875,  0.725  ,\n",
      "        0.73125,  0.7375 ,  0.74375,  0.75   ,  0.75625,  0.7625 ,\n",
      "        0.76875,  0.775  ,  0.78125,  0.7875 ,  0.79375,  0.79375,\n",
      "        0.8    ,  0.80625,  0.8125 ,  0.81875,  0.825  ,  0.83125,\n",
      "        0.8375 ,  0.84375,  0.85   ,  0.85625,  0.8625 ,  0.86875,\n",
      "        0.875  ,  0.88125,  0.8875 ,  0.89375,  0.9    ,  0.90625,\n",
      "        0.9125 ,  0.91875,  0.925  ,  0.93125,  0.9375 ,  0.94375,\n",
      "        0.95   ,  0.95625,  0.9625 ,  0.9625 ,  0.96875,  0.975  ,\n",
      "        0.98125,  0.9875 ,  0.99375,  1.     ]), array([ 0.        ,  0.        ,  0.01408451,  0.02816901,  0.02816901,\n",
      "        0.04225352,  0.05633803,  0.07042254,  0.08450704,  0.09859155,\n",
      "        0.11267606,  0.12676056,  0.14084507,  0.15492958,  0.16901408,\n",
      "        0.18309859,  0.1971831 ,  0.21126761,  0.22535211,  0.22535211,\n",
      "        0.23943662,  0.25352113,  0.26760563,  0.28169014,  0.29577465,\n",
      "        0.30985915,  0.30985915,  0.32394366,  0.32394366,  0.32394366,\n",
      "        0.33802817,  0.33802817,  0.35211268,  0.36619718,  0.38028169,\n",
      "        0.3943662 ,  0.4084507 ,  0.42253521,  0.43661972,  0.43661972,\n",
      "        0.45070423,  0.45070423,  0.45070423,  0.46478873,  0.47887324,\n",
      "        0.49295775,  0.49295775,  0.50704225,  0.52112676,  0.53521127,\n",
      "        0.53521127,  0.54929577,  0.54929577,  0.54929577,  0.56338028,\n",
      "        0.56338028,  0.56338028,  0.57746479,  0.5915493 ,  0.5915493 ,\n",
      "        0.5915493 ,  0.5915493 ,  0.6056338 ,  0.6056338 ,  0.6056338 ,\n",
      "        0.6056338 ,  0.6056338 ,  0.6056338 ,  0.6056338 ,  0.6056338 ,\n",
      "        0.6056338 ,  0.61971831,  0.61971831,  0.63380282,  0.64788732,\n",
      "        0.66197183,  0.66197183,  0.67605634,  0.67605634,  0.69014085,\n",
      "        0.70422535,  0.70422535,  0.70422535,  0.71830986,  0.71830986,\n",
      "        0.71830986,  0.71830986,  0.73239437,  0.73239437,  0.73239437,\n",
      "        0.74647887,  0.76056338,  0.76056338,  0.76056338,  0.77464789,\n",
      "        0.77464789,  0.77464789,  0.77464789,  0.77464789,  0.78873239,\n",
      "        0.78873239,  0.78873239,  0.78873239,  0.78873239,  0.78873239,\n",
      "        0.78873239,  0.78873239,  0.8028169 ,  0.8028169 ,  0.8028169 ,\n",
      "        0.8028169 ,  0.8028169 ,  0.81690141,  0.81690141,  0.81690141,\n",
      "        0.83098592,  0.84507042,  0.84507042,  0.84507042,  0.84507042,\n",
      "        0.84507042,  0.84507042,  0.84507042,  0.84507042,  0.84507042,\n",
      "        0.85915493,  0.85915493,  0.87323944,  0.88732394,  0.88732394,\n",
      "        0.88732394,  0.88732394,  0.88732394,  0.88732394,  0.90140845,\n",
      "        0.90140845,  0.90140845,  0.90140845,  0.90140845,  0.91549296,\n",
      "        0.91549296,  0.91549296,  0.92957746,  0.92957746,  0.92957746,\n",
      "        0.92957746,  0.92957746,  0.94366197,  0.94366197,  0.94366197,\n",
      "        0.94366197,  0.94366197,  0.94366197,  0.94366197,  0.94366197,\n",
      "        0.94366197,  0.94366197,  0.94366197,  0.94366197,  0.94366197,\n",
      "        0.94366197,  0.94366197,  0.94366197,  0.94366197,  0.94366197,\n",
      "        0.94366197,  0.94366197,  0.94366197,  0.94366197,  0.94366197,\n",
      "        0.94366197,  0.94366197,  0.94366197,  0.95774648,  0.95774648,\n",
      "        0.95774648,  0.95774648,  0.95774648,  0.95774648,  0.95774648,\n",
      "        0.95774648,  0.97183099,  0.97183099,  0.97183099,  0.97183099,\n",
      "        0.97183099,  0.97183099,  0.97183099,  0.97183099,  0.97183099,\n",
      "        0.97183099,  0.97183099,  0.97183099,  0.97183099,  0.97183099,\n",
      "        0.97183099,  0.97183099,  0.98591549,  0.98591549,  0.98591549,\n",
      "        0.98591549,  0.98591549,  0.98591549,  0.98591549,  0.98591549,\n",
      "        0.98591549,  0.98591549,  0.98591549,  0.98591549,  0.98591549,\n",
      "        0.98591549,  0.98591549,  0.98591549,  0.98591549,  0.98591549,\n",
      "        0.98591549,  0.98591549,  0.98591549,  0.98591549,  0.98591549,\n",
      "        0.98591549,  0.98591549,  0.98591549,  0.98591549,  0.98591549,\n",
      "        1.        ,  1.        ,  1.        ,  1.        ,  1.        ,\n",
      "        1.        ,  1.        ]), array([ 2.23273926,  1.23273926,  1.14445736,  1.03819899,  0.98809429,\n",
      "        0.97918377,  0.95789843,  0.72538829,  0.68955557,  0.67629809,\n",
      "        0.67592706,  0.65794449,  0.6472506 ,  0.61651817,  0.59315693,\n",
      "        0.5857836 ,  0.57992401,  0.54074678,  0.53369646,  0.53342786,\n",
      "        0.52072459,  0.48998469,  0.48570916,  0.48363123,  0.44678855,\n",
      "        0.445447  ,  0.43485022,  0.39308777,  0.37755357,  0.35843169,\n",
      "        0.35685882,  0.34856853,  0.34389771,  0.3346656 ,  0.30031983,\n",
      "        0.29021351,  0.27459056,  0.2642209 ,  0.26280233,  0.25248052,\n",
      "        0.20513051,  0.19050583,  0.15184707,  0.13875637,  0.11213772,\n",
      "        0.11091688,  0.0945275 ,  0.07277989,  0.05832368,  0.04342989,\n",
      "        0.02928825,  0.02659087,  0.0161377 ,  0.01513978,  0.01458906,\n",
      "        0.00276054, -0.01178411, -0.03939007, -0.0394374 , -0.04316688,\n",
      "       -0.04575056, -0.06486131, -0.07189388, -0.07810779, -0.09109464,\n",
      "       -0.09556851, -0.10607977, -0.10959789, -0.11679441, -0.12348321,\n",
      "       -0.12660728, -0.13353581, -0.13733873, -0.13859875, -0.15600495,\n",
      "       -0.16088942, -0.16269257, -0.17210582, -0.18711458, -0.20459351,\n",
      "       -0.20509914, -0.21121231, -0.22671673, -0.23373031, -0.23540929,\n",
      "       -0.25103494, -0.2691486 , -0.27453766, -0.2851445 , -0.28713226,\n",
      "       -0.28940285, -0.29711312, -0.30170611, -0.30694765, -0.31680513,\n",
      "       -0.31710529, -0.31914506, -0.32232528, -0.33488284, -0.3389717 ,\n",
      "       -0.34906582, -0.3639935 , -0.36535825, -0.37631233, -0.3825361 ,\n",
      "       -0.38823902, -0.40334974, -0.40512681, -0.40960743, -0.42434664,\n",
      "       -0.42851037, -0.430406  , -0.4321658 , -0.43463482, -0.43872941,\n",
      "       -0.44269639, -0.44480587, -0.44715168, -0.44766864, -0.45141681,\n",
      "       -0.45888265, -0.4589903 , -0.46798925, -0.473222  , -0.49666643,\n",
      "       -0.51235959, -0.51580294, -0.51887519, -0.52758382, -0.52864877,\n",
      "       -0.53060799, -0.53297712, -0.54148688, -0.54161879, -0.54264486,\n",
      "       -0.54431238, -0.55197982, -0.55293797, -0.55581699, -0.56550225,\n",
      "       -0.59407065, -0.60414259, -0.60922634, -0.61377153, -0.61452547,\n",
      "       -0.61586256, -0.62494584, -0.64023234, -0.64537516, -0.65020332,\n",
      "       -0.65768922, -0.65840546, -0.662367  , -0.66704254, -0.67223194,\n",
      "       -0.67702155, -0.69987224, -0.71230594, -0.7131018 , -0.72162717,\n",
      "       -0.72557094, -0.73829427, -0.74210148, -0.74818025, -0.75841455,\n",
      "       -0.76448514, -0.76577562, -0.77055383, -0.77113009, -0.77130376,\n",
      "       -0.7737545 , -0.77407556, -0.78080796, -0.7820356 , -0.78384385,\n",
      "       -0.80216809, -0.83028493, -0.83269388, -0.83999149, -0.84022213,\n",
      "       -0.84212269, -0.85099045, -0.86098942, -0.86758842, -0.87626249,\n",
      "       -0.87956985, -0.89553144, -0.90072648, -0.9077999 , -0.92402176,\n",
      "       -0.93087156, -0.93924894, -0.96758558, -0.97882383, -0.98118778,\n",
      "       -0.98210811, -0.99183488, -0.99295615, -1.02018843, -1.0395007 ,\n",
      "       -1.05448817, -1.06566003, -1.06575439, -1.07540691, -1.08381222,\n",
      "       -1.09617776, -1.09703726, -1.10186697, -1.11032227, -1.11128054,\n",
      "       -1.11674714, -1.11940272, -1.14500738, -1.15074776, -1.15242989,\n",
      "       -1.15427351, -1.17011592, -1.18550263, -1.20453725, -1.21081801,\n",
      "       -1.21137606, -1.23945991, -1.25973594, -1.2860289 , -1.32212056,\n",
      "       -1.37056669, -1.39777505, -1.41134315, -1.44878567, -1.49445055,\n",
      "       -1.56086096, -1.90879321]))\n"
     ]
    },
    {
     "data": {
      "image/png": "[encoded data removed]",
      "text/plain": [
       "<matplotlib.figure.Figure at 0x107a7f390>"
      ]
     },
     "metadata": {},
     "output_type": "display_data"
    }
   ],
   "source": [
    "import numpy as np\n",
    "from sklearn.svm import LinearSVC\n",
    "from sklearn.svm import SVC\n",
    "import sys\n",
    "if sys.version_info.major == 2:\n",
    "    from urllib import urlopen\n",
    "elif sys.version_info.major == 3:\n",
    "    from urllib.request import urlopen\n",
    "from sklearn.cross_validation import train_test_split\n",
    "from sklearn.metrics import roc_curve, auc\n",
    "\n",
    "# Loading Pima Indians Diabetes data from UCI Machine learning repository\n",
    "url = \"https://archive.ics.uci.edu/ml/machine-learning-databases/pima-indians-diabetes/pima-indians-diabetes.data\"\n",
    "raw_data = urlopen(url)\n",
    "data = np.loadtxt(raw_data, delimiter=\",\")\n",
    "\n",
    "X = data[:, :8]\n",
    "y = data[:, 8]\n",
    "\n",
    "X_train, X_test, y_train, y_test = train_test_split(X, y, test_size=.3)\n",
    "C = 10.0 # Regularization parameter of the error term\n",
    "\n",
    "lin_svm = LinearSVC(C=C, dual=False).fit(X_train, y_train)\n",
    "y_score = lin_svm.decision_function(X_test)\n",
    "\n",
    "# Compute ROC curve and ROC area\n",
    "fpr, tpr, thres = roc_curve(y_test, y_score)\n",
    "print(fpr, tpr, thres)\n",
    "roc_auc = auc(fpr, tpr)\n",
    "\n",
    "# Plot of a ROC curve for a specific class\n",
    "plt.figure()\n",
    "plt.plot(fpr, tpr, label='ROC curve (area = %0.2f)' % roc_auc)\n",
    "plt.plot([0, 1], [0, 1], 'k--')\n",
    "plt.xlim([0.0, 1.0])\n",
    "plt.ylim([0.0, 1.05])\n",
    "plt.xlabel('False Positive Rate')\n",
    "plt.ylabel('True Positive Rate')\n",
    "plt.title('Receiver operating characteristic example')\n",
    "plt.legend(loc=\"lower right\")\n",
    "plt.show()"
   ]
  },
  {
   "cell_type": "markdown",
   "metadata": {},
   "source": [
    "Указанные выше характеристики можно использовать для подбора параметров алгоритмов, например, с помощью кросс-валидации. Найдём оптимальное с точки зрения F1-меры число ближайших соседей в алгоритме kNN."
   ]
  },
  {
   "cell_type": "code",
   "execution_count": 4,
   "metadata": {
    "collapsed": false
   },
   "outputs": [
    {
     "data": {
      "image/png": "[encoded data removed]",
      "text/plain": [
       "<matplotlib.figure.Figure at 0x104772b50>"
      ]
     },
     "metadata": {},
     "output_type": "display_data"
    }
   ],
   "source": [
    "from sklearn import cross_validation\n",
    "from sklearn.neighbors import KNeighborsClassifier\n",
    "\n",
    "knn = KNeighborsClassifier()\n",
    "k_s = np.arange(1, 50, 2)\n",
    "\n",
    "scores_f1 = list()\n",
    "\n",
    "for k in k_s:\n",
    "    knn.n_neighbors = k\n",
    "    scores_f1.append(np.mean(\n",
    "            cross_validation.cross_val_score(knn, \n",
    "                                             X, y, \n",
    "                                             scoring = 'f1')))\n",
    "\n",
    "plt.figure(1, figsize=(10, 5))\n",
    "plt.clf()\n",
    "plt.plot(k_s, scores_f1, linewidth = 2)\n",
    "plt.axvline(k_s[np.argmax(scores_f1)], color = 'r')\n",
    "plt.ylabel('F1-score')\n",
    "plt.xlabel('Parameter k')\n",
    "plt.xlim(1, 49)\n",
    "plt.title('F1-optimal number of neighbors, $k$ = %d' % \n",
    "          k_s[np.argmax(scores_f1)])\n",
    "plt.show()"
   ]
  },
  {
   "cell_type": "markdown",
   "metadata": {
    "collapsed": false
   },
   "source": [
    "### Многоклассовая классификация\n",
    "В случае, когда число классов больше двух, матрица ошибок определяется аналогичным образом: на пересечении $i$-ой строки и $j$-го столбца стоит число примеров $i$-го класса, отнесённых классификатором к классу $j$. "
   ]
  },
  {
   "cell_type": "code",
   "execution_count": 5,
   "metadata": {
    "collapsed": false
   },
   "outputs": [
    {
     "data": {
      "text/plain": [
       "array([[2, 0, 1],\n",
       "       [0, 2, 1],\n",
       "       [2, 0, 1]])"
      ]
     },
     "execution_count": 5,
     "metadata": {},
     "output_type": "execute_result"
    }
   ],
   "source": [
    "true_labels = np.array([0, 1, 2, 0, 1, 2, 0, 1, 2])\n",
    "predicted_labels = np.array([0, 2, 0, 2, 1, 0, 0, 1, 2])\n",
    "\n",
    "M = metrics.confusion_matrix(true_labels, predicted_labels)\n",
    "M"
   ]
  },
  {
   "cell_type": "markdown",
   "metadata": {
    "collapsed": true
   },
   "source": [
    "### One vs. All\n",
    "Многоклассовая классификация может быть сведена к бинарной различными способами. Одним из них является подход One vs. All. Его суть в следующем: для каждого класса $i \\in \\{1, \\dots, k\\}$ обучим бинарный классификатор $a_i(x) = \\mbox{sign}f_i(x)$ на исходной выборке с изменёнными метками (объекты $i$-го класса получают метку 1, все оставшиеся объекты - метку 0), то есть мы учим $a_i$ отличать $i$-ый класс от всех остальных. После чего итоговый классификатор строится как $a(x) = \\mbox{argmax}_{i \\in \\{1, \\dots, k\\}} f_i(x)$, то есть он выдаёт класс с наибольшей оценкой $f_i(x)$. "
   ]
  },
  {
   "cell_type": "code",
   "execution_count": 6,
   "metadata": {
    "collapsed": false
   },
   "outputs": [
    {
     "data": {
      "text/plain": [
       "0.96666666666666667"
      ]
     },
     "execution_count": 6,
     "metadata": {},
     "output_type": "execute_result"
    }
   ],
   "source": [
    "from sklearn.multiclass import OneVsRestClassifier\n",
    "from sklearn import datasets\n",
    "iris = datasets.load_iris()\n",
    "X, y = iris.data, iris.target\n",
    "# Fitting One vs. All version of linear SVM\n",
    "onevsall = OneVsRestClassifier(LinearSVC()).fit(X, y) \n",
    "metrics.accuracy_score(y, onevsall.predict(X))"
   ]
  },
  {
   "cell_type": "markdown",
   "metadata": {},
   "source": [
    "### Полезные ссылки\n",
    "\n",
    "- [Статья](http://habrahabr.ru/post/228963/) на Habrahabr\n",
    "- [ROC-кривая](http://www.machinelearning.ru/wiki/index.php?title=ROC-%D0%BA%D1%80%D0%B8%D0%B2%D0%B0%D1%8F)\n",
    "- [Характеристики](https://en.wikipedia.org/wiki/Precision_and_recall) бинарного классификатора\n",
    "- [One vs. All и One vs. One](https://en.wikipedia.org/wiki/Multiclass_classification)"
   ]
  }
 ],
 "metadata": {
  "kernelspec": {
   "display_name": "Python 2",
   "language": "python",
   "name": "python2"
  },
  "language_info": {
   "codemirror_mode": {
    "name": "ipython",
    "version": 2
   },
   "file_extension": ".py",
   "mimetype": "text/x-python",
   "name": "python",
   "nbconvert_exporter": "python",
   "pygments_lexer": "ipython2",
   "version": "2.7.10"
  }
 },
 "nbformat": 4,
 "nbformat_minor": 0
}
