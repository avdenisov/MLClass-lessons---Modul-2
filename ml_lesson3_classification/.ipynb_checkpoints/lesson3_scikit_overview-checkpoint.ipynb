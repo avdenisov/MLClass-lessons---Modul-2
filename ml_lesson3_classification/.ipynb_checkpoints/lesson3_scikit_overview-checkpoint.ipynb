{
 "cells": [
  {
   "cell_type": "markdown",
   "metadata": {},
   "source": [
    "# MLClass. \"Прикладной анализ данных\". Курс \"Машинное обучение с помощью Python\".\n",
    "<img src=\"mlclass_logo.jpg\" height=\"240\" width=\"240\">\n",
    "## Автор материала: преподаватель ФКН НИУ ВШЭ Кашницкий Юрий"
   ]
  },
  {
   "cell_type": "markdown",
   "metadata": {},
   "source": [
    "Приложения машинного обучения: анализ естсетсвенного языка, компьютерное зрение, реклама, робототехника, биоинформатика, физика высоких энергий, кредитный скоринг и др. \n",
    "\n",
    "<center><img src=\"motivation.png\" width=\"100%\" /></center>"
   ]
  },
  {
   "cell_type": "code",
   "execution_count": 3,
   "metadata": {
    "collapsed": true
   },
   "outputs": [],
   "source": [
    "%matplotlib inline\n",
    "from matplotlib import pyplot as plt\n",
    "plt.rcParams[\"figure.figsize\"] = (8, 8)\n",
    "\n",
    "import numpy as np\n",
    "np.set_printoptions(precision=3)"
   ]
  },
  {
   "cell_type": "markdown",
   "metadata": {},
   "source": [
    "Библиотека **Scikit-Learn**\n",
    " - написана на языке Python\n",
    " - включает множество классических алгоритмов машинного обучения\n",
    " - Отличная <a href=\"http://scikit-learn.org/dev/documentation.html\">документация</a> и <a href=\"http://scikit-learn.org/dev/auto_examples/index.html\">примеры</a>\n",
    " - разработана с помощью GitHub   "
   ]
  },
  {
   "cell_type": "markdown",
   "metadata": {},
   "source": [
    "<center> \n",
    "<img src=\"scikit-learn-logo.png\" style=\"max-width: 120px; display: inline\" />\n",
    "<img src=\"numpy-logo.png\" style=\"max-width: 120px; display: inline\" />\n",
    "<img src=\"scipy-logo.png\" style=\"max-width: 120px; display: inline\" />\n",
    "<img src=\"ipython-logo.jpg\" style=\"max-width: 120px; display: inline\" />\n",
    "<img src=\"matplotlib-logo.png\" style=\"max-width: 120px; display: inline\"/>\n",
    "<img src=\"pandas-logo.png\" style=\"max-width: 120px; display: inline\" />\n",
    "</center>"
   ]
  },
  {
   "cell_type": "markdown",
   "metadata": {},
   "source": [
    "- в объединении с библиотеками NumPy, SciPy, ipython, matplotlib и pandas - образует мощное средство анализа данных и машинного обучения"
   ]
  },
  {
   "cell_type": "markdown",
   "metadata": {},
   "source": [
    "## Алгоритмы\n",
    "\n",
    "__Обучение с учителем:__\n",
    "\n",
    "* Линейные модели (Ridge, Lasso, Elastic Net, ...)\n",
    "* Ансамбли (случайный лес, бэггинг, градиентный бустинг, ...)\n",
    "* Машина опрных векторов (SVM)\n",
    "* k ближайших соседей (kNN)\n",
    "\n",
    "<center><a href=\"http://scikit-learn.org/dev/auto_examples/classification/plot_classifier_comparison.html\"><img src=\"classifiers.png\" width=\"90%\" /></a>\n",
    "<em>Сравнение некоторых классификаторов Scikit-Learn</em></center><br />\n",
    "\n",
    "__Обучение без учителя:__\n",
    "\n",
    "* Кластеризация (KMeans, иерархическая, ...)\n",
    "* Матричная факторизация (PCA, ICA, ...)\n",
    "* Плотностные методы\n",
    "* Обнаружение выбросов и аномалий в данных\n",
    "\n",
    "__Выбор и оценка модели:__\n",
    "\n",
    "* Скользящий контроль (Cross-validation)\n",
    "* Поиск в сетке параметров (Grid-search)\n",
    "* Множество метрик\n",
    "* <a href=\"http://scikit-learn.org/stable/modules/classes.html\">и другие</a>"
   ]
  },
  {
   "cell_type": "markdown",
   "metadata": {},
   "source": [
    "## Обучение с учителем\n",
    "\n",
    "Цель - построить функцию $\\varphi_{\\cal L}: {\\cal X} \\mapsto {\\cal Y}$, минимизирующую ошибку\n",
    "\n",
    "$$\n",
    "Err(\\varphi_{\\cal L}) = \\mathbb{E}_{X,Y}\\{ L(Y, \\varphi_{\\cal L}(X)) \\}.\n",
    "$$\n",
    "\n",
    "где $L$ - функция ошибки (например, 0/1 для классификации)."
   ]
  },
  {
   "cell_type": "markdown",
   "metadata": {},
   "source": [
    "### Дерево решений\n",
    "\n",
    "Дерево решений - по сути, разбиение пространства на многомерные параллелепипеды, для каждой области соотвествует простая модель - решающее правило. \n",
    "\n",
    "<center>\n",
    "    <img src=\"tree-partition.png\" width=\"39%\" style=\"display:inline\" />\n",
    "    <img src=\"tree-simple.png\" width=\"60%\" style=\"display:inline\" />\n",
    "</center>\n",
    "<small>\n",
    "<pre>\n",
    "def build(L):\n",
    "    create node t\n",
    "    if the stopping criterion is True:\n",
    "        assign a predictive model to t\n",
    "    else:\n",
    "        Find the best binary split L = L_left + L_right\n",
    "        t.left = build(L_left)\n",
    "        t.right = build(L_right)\n",
    "    return t     \n",
    "</pre>\n",
    "</small>"
   ]
  },
  {
   "cell_type": "markdown",
   "metadata": {},
   "source": [
    "## API Scikit-learn\n",
    "\n",
    "- `estimator`  - интерфейс создания и обучения моделей\n",
    "- `predictor` - интерфейс предсказаний\n",
    "- `transformer` - интерфейс преобразования данных"
   ]
  },
  {
   "cell_type": "markdown",
   "metadata": {},
   "source": [
    "### Класс Estimator"
   ]
  },
  {
   "cell_type": "code",
   "execution_count": 6,
   "metadata": {
    "collapsed": true
   },
   "outputs": [],
   "source": [
    "class Estimator(object):\n",
    "    def fit(self, X, y=None):\n",
    "        \"\"\"Fits estimator to data.\"\"\"\n",
    "        # set state of ``self``\n",
    "        return self\n",
    "            \n",
    "    def predict(self, X):\n",
    "        \"\"\"Predict response of ``X``.\"\"\"\n",
    "        # compute predictions ``pred``\n",
    "        return pred"
   ]
  },
  {
   "cell_type": "code",
   "execution_count": 7,
   "metadata": {
    "collapsed": false
   },
   "outputs": [
    {
     "data": {
      "text/plain": [
       "DecisionTreeClassifier(class_weight=None, criterion='entropy', max_depth=None,\n",
       "            max_features=None, max_leaf_nodes=None, min_samples_leaf=1,\n",
       "            min_samples_split=2, min_weight_fraction_leaf=0.0,\n",
       "            random_state=None, splitter='best')"
      ]
     },
     "execution_count": 7,
     "metadata": {},
     "output_type": "execute_result"
    }
   ],
   "source": [
    "# Import the decision tree class\n",
    "from sklearn.tree import DecisionTreeClassifier  # Change this to try \n",
    "                                                 # something else\n",
    "from sklearn.datasets import load_iris\n",
    "\n",
    "dataset = load_iris()\n",
    "X, y = dataset.data, dataset.target\n",
    "# Set hyper-parameters, for controlling the learning algorithm\n",
    "clf = DecisionTreeClassifier(criterion=\"entropy\")\n",
    "\n",
    "# Learn a model from training data\n",
    "clf.fit(X, y)"
   ]
  },
  {
   "cell_type": "markdown",
   "metadata": {},
   "source": [
    "### Предсказания для новых данных"
   ]
  },
  {
   "cell_type": "code",
   "execution_count": 22,
   "metadata": {
    "collapsed": false
   },
   "outputs": [
    {
     "name": "stdout",
     "output_type": "stream",
     "text": [
      "[0 0 1]\n"
     ]
    }
   ],
   "source": [
    "# Make predictions \n",
    "new_data = np.array([[5.0,  3.6,  1.6,  0.3],\n",
    "                  [4.8,  3.1 ,  1.4,  0.3],\n",
    "                  [5.1,  2.3,  3.1,  1.25]])\n",
    "print(clf.predict(new_data)) "
   ]
  },
  {
   "cell_type": "markdown",
   "metadata": {},
   "source": [
    "Также можно считать \"вероятности\" отнесения к классам. Но дерево решений - не вероятностый метод."
   ]
  },
  {
   "cell_type": "code",
   "execution_count": 23,
   "metadata": {
    "collapsed": false
   },
   "outputs": [
    {
     "name": "stdout",
     "output_type": "stream",
     "text": [
      "[[ 1.  0.  0.]\n",
      " [ 1.  0.  0.]\n",
      " [ 0.  1.  0.]]\n"
     ]
    }
   ],
   "source": [
    "# Compute class probabilities\n",
    "print(clf.predict_proba(new_data))"
   ]
  }
 ],
 "metadata": {
  "kernelspec": {
   "display_name": "Python 3",
   "language": "python",
   "name": "python3"
  },
  "language_info": {
   "codemirror_mode": {
    "name": "ipython",
    "version": 3
   },
   "file_extension": ".py",
   "mimetype": "text/x-python",
   "name": "python",
   "nbconvert_exporter": "python",
   "pygments_lexer": "ipython3",
   "version": "3.4.3"
  }
 },
 "nbformat": 4,
 "nbformat_minor": 0
}
