{
 "cells": [
  {
   "cell_type": "markdown",
   "metadata": {},
   "source": [
    "# MLClass. \"Прикладной анализ данных\". Курс \"Машинное обучение с помощью Python\".\n",
    "<img src=\"../img/mlclass_logo.jpg\" height=\"240\" width=\"240\">\n",
    "## Авторы материала: преподаватель ФКН НИУ ВШЭ Кашницкий Юрий, магистрант ВМК МГУ Евгений Колмаков\n",
    "Материал распространяется на условиях лицензии <a href=\"http://creativecommons.org/licenses/by-sa/4.0/\">Creative Commons Attribution-Share Alike 4.0</a>. Можно использовать в любых целях, но с обязательным упоминанием автора курса и аффилиации."
   ]
  },
  {
   "cell_type": "markdown",
   "metadata": {},
   "source": [
    "## 1. One-hot encoding для kNN"
   ]
  },
  {
   "cell_type": "code",
   "execution_count": 1,
   "metadata": {
    "collapsed": false,
    "scrolled": false
   },
   "outputs": [
    {
     "name": "stdout",
     "output_type": "stream",
     "text": [
      "Fitting 3 folds for each of 9 candidates, totalling 27 fits\n"
     ]
    },
    {
     "name": "stderr",
     "output_type": "stream",
     "text": [
      "[Parallel(n_jobs=4)]: Done   1 jobs       | elapsed:    0.1s\n",
      "[Parallel(n_jobs=4)]: Done  21 out of  27 | elapsed:    0.3s remaining:    0.1s\n",
      "[Parallel(n_jobs=4)]: Done  27 out of  27 | elapsed:    0.3s finished\n"
     ]
    },
    {
     "name": "stdout",
     "output_type": "stream",
     "text": [
      "Best params: {'n_neighbors': 11}\n",
      "Best cross validation ROC AUC score 0.741361490828\n"
     ]
    }
   ],
   "source": [
    "import numpy as np\n",
    "import pandas as pd\n",
    "from sklearn.neighbors import KNeighborsClassifier\n",
    "from sklearn.grid_search import GridSearchCV\n",
    "from sklearn import preprocessing\n",
    "\n",
    "\n",
    "def load_train_and_test(path_to_train, path_to_test, one_hot=False):\n",
    "    # read data into pandas data frames\n",
    "    train_df = pd.read_csv(path_to_train,\n",
    "                           header=0, index_col=0)\n",
    "    test_df = pd.read_csv(path_to_test,\n",
    "                          header=0, index_col=0)\n",
    "\n",
    "    def extract_region(auto_number):\n",
    "        \"\"\"\n",
    "        Returns region based on the auto number\n",
    "        X796TH96RUS -> 96\n",
    "        E432XX77RUS -> 77\n",
    "        If there are more than 2-3 digits before 'RUS', returns \"not-auto-num\"\n",
    "        \"\"\"\n",
    "        index = auto_number.rindex(\"RUS\") - 1\n",
    "        while auto_number[index].isdigit():\n",
    "            index -= 1\n",
    "        auto_number = auto_number[index + 1 :auto_number.rindex('RUS')]\n",
    "        return auto_number if len(auto_number) <= 3 else \"not-auto-num\"\n",
    "\n",
    "    # auto brand and region are categorical so we encode these columns\n",
    "    # ex: \"Volvo\" -> 1, \"Audi\" -> 2 etc\n",
    "    auto_brand_encoder = preprocessing.LabelEncoder()\n",
    "    auto_brand_encoder.fit(train_df['auto_brand'])\n",
    "\n",
    "    regions_train = np.array([extract_region(num) for num in train_df['auto_number']])\n",
    "    region_encoder = preprocessing.LabelEncoder()\n",
    "    region_encoder.fit(regions_train)\n",
    "\n",
    "    train_df['region'] = region_encoder.transform(train_df['auto_number'].apply(extract_region))\n",
    "    train_df['auto_brand'] = auto_brand_encoder.transform(train_df['auto_brand'])\n",
    "\n",
    "    test_df['region'] = region_encoder.transform(test_df['auto_number'].apply(extract_region))\n",
    "    test_df['auto_brand'] = auto_brand_encoder.transform(test_df['auto_brand'])\n",
    "\n",
    "    # form a numpy array to fit as train set labels\n",
    "    y = train_df['too_much']\n",
    "\n",
    "    # we don't need some columns in the training\\test set anymore        \n",
    "    train_df = train_df.drop(['auto_number', 'too_much'], axis=1)\n",
    "    test_df = test_df.drop(['auto_number'], axis=1)\n",
    "    \n",
    "    # one-hot encoding region and auto_brand in both data frames\n",
    "    if one_hot:\n",
    "        df = pd.concat((train_df, test_df))\n",
    "        df = pd.get_dummies(df, columns=['region', 'auto_brand'])\n",
    "        # extracting both dataframes\n",
    "        train_df = df[:train_df.shape[0]]\n",
    "        test_df = df[train_df.shape[0]:]\n",
    "\n",
    "    return train_df, y, test_df\n",
    "\n",
    "\n",
    "# read data\n",
    "train_df, y, test_df = load_train_and_test(\"../data/car_insurance_train.csv\",\n",
    "                                \"../data/car_insurance_test.csv\", one_hot=True)\n",
    "\n",
    "# params for grid search\n",
    "params = {'n_neighbors': list(range(3, 12))}\n",
    "\n",
    "# make an instance of a grid searcher\n",
    "best_clf = GridSearchCV(KNeighborsClassifier(), params, verbose=True, n_jobs=4,\n",
    "                        scoring=\"roc_auc\")\n",
    "\n",
    "# fit X and y (train set and corresponding labels) to the grid searcher\n",
    "best_clf.fit(train_df, y)\n",
    "\n",
    "# print best estimatior and params\n",
    "print(\"Best params:\", best_clf.best_params_)\n",
    "print(\"Best cross validation ROC AUC score\", best_clf.best_score_)\n",
    "\n",
    "# make predictions. This results in 0.741 AUC score\n",
    "predicted_labels = best_clf.predict(test_df)\n",
    "\n",
    "# turn predictions into data frame and save as csv file\n",
    "predicted_df = pd.DataFrame(predicted_labels,\n",
    "                            index = np.arange(1, test_df.shape[0] + 1),\n",
    "                            columns=[\"too_much\"])\n",
    "predicted_df.to_csv(\"../output/knn_car_insurance.csv\", index_label=\"id\")"
   ]
  },
  {
   "cell_type": "markdown",
   "metadata": {},
   "source": [
    "## 2. Выделение важных признаков с помощью Random forest"
   ]
  },
  {
   "cell_type": "markdown",
   "metadata": {},
   "source": [
    "### Car insurance"
   ]
  },
  {
   "cell_type": "code",
   "execution_count": 2,
   "metadata": {
    "collapsed": false
   },
   "outputs": [
    {
     "name": "stdout",
     "output_type": "stream",
     "text": [
      "Importance of auto_brand = 0.075\n",
      "Importance of compensated = 0.754\n",
      "Importance of region = 0.171\n"
     ]
    }
   ],
   "source": [
    "from sklearn.ensemble import RandomForestClassifier\n",
    "\n",
    "train_df, y, test_df = load_train_and_test(\"../data/car_insurance_train.csv\",\n",
    "                                \"../data/car_insurance_test.csv\", one_hot=False)\n",
    "\n",
    "clf = RandomForestClassifier().fit(train_df, y)\n",
    "\n",
    "for imp, name in zip(clf.feature_importances_, train_df.columns.values):\n",
    "    print('Importance of %s = %.3f' % (name, imp))"
   ]
  },
  {
   "cell_type": "markdown",
   "metadata": {},
   "source": [
    "## 4. Beeline"
   ]
  },
  {
   "cell_type": "code",
   "execution_count": 10,
   "metadata": {
    "collapsed": false
   },
   "outputs": [
    {
     "name": "stdout",
     "output_type": "stream",
     "text": [
      "Fitting 3 folds for each of 15 candidates, totalling 45 fits\n"
     ]
    },
    {
     "name": "stderr",
     "output_type": "stream",
     "text": [
      "[Parallel(n_jobs=4)]: Done   1 jobs       | elapsed:    1.1s\n",
      "[Parallel(n_jobs=4)]: Done  39 out of  45 | elapsed:   22.1s remaining:    3.4s\n",
      "[Parallel(n_jobs=4)]: Done  45 out of  45 | elapsed:   26.2s finished\n"
     ]
    },
    {
     "name": "stdout",
     "output_type": "stream",
     "text": [
      "Best params: {'n_neighbors': 27}\n",
      "Best cross validation score 0.558761585504\n"
     ]
    }
   ],
   "source": [
    "from sklearn.preprocessing import LabelBinarizer\n",
    "train_df = pd.read_csv('../data/beeline_train.csv', nrows=1000)\n",
    "test_df = pd.read_csv('../data/beeline_test.csv', nrows=1000)\n",
    "y = train_df['y']\n",
    "train_df = train_df.drop(['y'], axis=1)\n",
    "test_df = test_df.drop(['ID'], axis=1)\n",
    "\n",
    "lb = LabelBinarizer()\n",
    "y = lb.fit_transform(y)\n",
    "\n",
    "df = pd.concat((train_df, test_df))\n",
    "df = df.fillna(0.0)\n",
    "df = pd.get_dummies(df)\n",
    "train_df = df[:train_df.shape[0]]\n",
    "test_df = df[train_df.shape[0]:]\n",
    "\n",
    "params = {'n_neighbors': list(np.arange(1, 31, 2))}\n",
    "best_clf = GridSearchCV(KNeighborsClassifier(), \n",
    "                        params, verbose=True, n_jobs=4,\n",
    "                       scoring=\"roc_auc\")\n",
    "\n",
    "# fit X and y (train set and corresponding labels) to the grid searcher\n",
    "best_clf.fit(train_df, y)\n",
    "\n",
    "# print best estimatior and params\n",
    "print(\"Best params:\", best_clf.best_params_)\n",
    "print(\"Best cross validation score\", best_clf.best_score_)"
   ]
  }
 ],
 "metadata": {
  "kernelspec": {
   "display_name": "Python 3",
   "language": "python",
   "name": "python3"
  },
  "language_info": {
   "codemirror_mode": {
    "name": "ipython",
    "version": 3
   },
   "file_extension": ".py",
   "mimetype": "text/x-python",
   "name": "python",
   "nbconvert_exporter": "python",
   "pygments_lexer": "ipython3",
   "version": "3.4.3"
  },
  "name": "2_1_7_regul.ipynb"
 },
 "nbformat": 4,
 "nbformat_minor": 0
}
