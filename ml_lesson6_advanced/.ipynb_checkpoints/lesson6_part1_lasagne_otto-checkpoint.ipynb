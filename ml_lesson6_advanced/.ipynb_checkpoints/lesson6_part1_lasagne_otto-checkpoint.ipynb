{
 "cells": [
  {
   "cell_type": "markdown",
   "metadata": {},
   "source": [
    "# MLClass. \"Прикладной анализ данных\"\n",
    "# Модуль \"Машинное обучение с помощью Python\"\n",
    "<img src=\"../img/mlclass_logo.jpg\" height=\"240\" width=\"240\">\n",
    "## Автор материала: преподаватель ФКН НИУ ВШЭ Кашницкий Юрий\n",
    "Материал распространяется на условиях лицензии <a href=\"http://creativecommons.org/licenses/by-sa/4.0/\">Creative Commons Attribution-Share Alike 4.0</a>. Можно использовать в любых целях, но с обязательным упоминанием автора курса и аффилиации."
   ]
  },
  {
   "cell_type": "markdown",
   "metadata": {},
   "source": [
    "# Урок 6. Нейронные сети. Бустинг. Смешивание алгоритмов. Стекинг.\n",
    "## Часть 1. Решение Otto Group Product Classification Challenge с помощью  nolearn/lasagne"
   ]
  },
  {
   "cell_type": "markdown",
   "metadata": {},
   "source": [
    "Переведено из <a href=\"https://github.com/ottogroup\">этого</a> репозитория. "
   ]
  },
  {
   "cell_type": "markdown",
   "metadata": {},
   "source": [
    "**Подключение библиотек**"
   ]
  },
  {
   "cell_type": "code",
   "execution_count": 1,
   "metadata": {
    "collapsed": false
   },
   "outputs": [],
   "source": [
    "import numpy as np\n",
    "import pandas as pd\n",
    "from sklearn.preprocessing import LabelEncoder\n",
    "from sklearn.preprocessing import StandardScaler"
   ]
  },
  {
   "cell_type": "code",
   "execution_count": 2,
   "metadata": {
    "collapsed": false
   },
   "outputs": [],
   "source": [
    "from lasagne.layers import DenseLayer\n",
    "from lasagne.layers import InputLayer\n",
    "from lasagne.layers import DropoutLayer\n",
    "from lasagne.nonlinearities import softmax\n",
    "from lasagne.updates import nesterov_momentum\n",
    "from nolearn.lasagne import NeuralNet"
   ]
  },
  {
   "cell_type": "markdown",
   "metadata": {},
   "source": [
    "**Вспомогательные функции**"
   ]
  },
  {
   "cell_type": "code",
   "execution_count": 3,
   "metadata": {
    "collapsed": false
   },
   "outputs": [],
   "source": [
    "def load_train_data(path):\n",
    "    df = pd.read_csv(path)\n",
    "    X = df.values.copy()\n",
    "    np.random.shuffle(X)\n",
    "    X, labels = X[:, 1:-1].astype(np.float32), X[:, -1]\n",
    "    encoder = LabelEncoder()\n",
    "    y = encoder.fit_transform(labels).astype(np.int32)\n",
    "    scaler = StandardScaler()\n",
    "    X = scaler.fit_transform(X)\n",
    "    return X, y, encoder, scaler"
   ]
  },
  {
   "cell_type": "code",
   "execution_count": 4,
   "metadata": {
    "collapsed": false
   },
   "outputs": [],
   "source": [
    "def load_test_data(path, scaler):\n",
    "    df = pd.read_csv(path)\n",
    "    X = df.values.copy()\n",
    "    X, ids = X[:, 1:].astype(np.float32), X[:, 0].astype(str)\n",
    "    X = scaler.transform(X)\n",
    "    return X, ids"
   ]
  },
  {
   "cell_type": "code",
   "execution_count": 5,
   "metadata": {
    "collapsed": false
   },
   "outputs": [],
   "source": [
    "def make_submission(clf, X_test, ids, encoder, \n",
    "                    name='my_neural_net_submission.csv'):\n",
    "    y_prob = clf.predict_proba(X_test)\n",
    "    with open(name, 'w') as f:\n",
    "        f.write('id,')\n",
    "        f.write(','.join(encoder.classes_))\n",
    "        f.write('\\n')\n",
    "        for id, probs in zip(ids, y_prob):\n",
    "            probas = ','.join([id] + map(str, probs.tolist()))\n",
    "            f.write(probas)\n",
    "            f.write('\\n')\n",
    "    print(\"Wrote submission to file {}.\".format(name))"
   ]
  },
  {
   "cell_type": "markdown",
   "metadata": {},
   "source": [
    "**Загрузка данных**"
   ]
  },
  {
   "cell_type": "code",
   "execution_count": 6,
   "metadata": {
    "collapsed": false
   },
   "outputs": [],
   "source": [
    "X, y, encoder, scaler = load_train_data('../data/otto_train.csv')"
   ]
  },
  {
   "cell_type": "code",
   "execution_count": 7,
   "metadata": {
    "collapsed": false
   },
   "outputs": [],
   "source": [
    "X_test, ids = load_test_data('../data/otto_test.csv', scaler)"
   ]
  },
  {
   "cell_type": "code",
   "execution_count": 8,
   "metadata": {
    "collapsed": false
   },
   "outputs": [],
   "source": [
    "num_classes = len(encoder.classes_)\n",
    "num_features = X.shape[1]"
   ]
  },
  {
   "cell_type": "markdown",
   "metadata": {},
   "source": [
    "**Обучение нейронной сети**"
   ]
  },
  {
   "cell_type": "code",
   "execution_count": 9,
   "metadata": {
    "collapsed": false
   },
   "outputs": [],
   "source": [
    "layers0 = [('input', InputLayer),\n",
    "           ('dense0', DenseLayer),\n",
    "           ('dropout', DropoutLayer),\n",
    "           ('dense1', DenseLayer),\n",
    "           ('output', DenseLayer)]"
   ]
  },
  {
   "cell_type": "code",
   "execution_count": 10,
   "metadata": {
    "collapsed": false
   },
   "outputs": [
    {
     "name": "stderr",
     "output_type": "stream",
     "text": [
      "//anaconda/lib/python2.7/site-packages/nolearn/lasagne/base.py:206: UserWarning: The 'eval_size' argument has been deprecated, please use the 'train_split' parameter instead, e.g.\n",
      "train_split=TrainSplit(eval_size=0.4)\n",
      "  warn(\"The 'eval_size' argument has been deprecated, please use \"\n"
     ]
    }
   ],
   "source": [
    "net0 = NeuralNet(layers=layers0,\n",
    "                 \n",
    "                 input_shape=(None, num_features),\n",
    "                 dense0_num_units=200,\n",
    "                 dropout_p=0.5,\n",
    "                 dense1_num_units=200,\n",
    "                 output_num_units=num_classes,\n",
    "                 output_nonlinearity=softmax,\n",
    "                 \n",
    "                 update=nesterov_momentum,\n",
    "                 update_learning_rate=0.01,\n",
    "                 update_momentum=0.9,\n",
    "                 \n",
    "                 eval_size=0.2,\n",
    "                 verbose=1,\n",
    "                 max_epochs=20)"
   ]
  },
  {
   "cell_type": "code",
   "execution_count": 11,
   "metadata": {
    "collapsed": false
   },
   "outputs": [
    {
     "name": "stdout",
     "output_type": "stream",
     "text": [
      "# Neural Network with 60809 learnable parameters\n",
      "\n",
      "## Layer information\n",
      "\n",
      "  #  name       size\n",
      "---  -------  ------\n",
      "  0  input        93\n",
      "  1  dense0      200\n",
      "  2  dropout     200\n",
      "  3  dense1      200\n",
      "  4  output        9\n",
      "\n",
      "  epoch    train loss    valid loss    train/val    valid acc  dur\n",
      "-------  ------------  ------------  -----------  -----------  -----\n",
      "      1       \u001b[36m0.92033\u001b[0m       \u001b[32m0.66250\u001b[0m      1.38918      0.75145  2.58s\n",
      "      2       \u001b[36m0.70799\u001b[0m       \u001b[32m0.61887\u001b[0m      1.14401      0.76622  2.91s\n",
      "      3       \u001b[36m0.66972\u001b[0m       \u001b[32m0.59583\u001b[0m      1.12401      0.77033  2.99s\n",
      "      4       \u001b[36m0.64441\u001b[0m       \u001b[32m0.58727\u001b[0m      1.09729      0.77578  3.26s\n",
      "      5       \u001b[36m0.62675\u001b[0m       \u001b[32m0.57321\u001b[0m      1.09339      0.77960  3.61s\n",
      "      6       \u001b[36m0.61363\u001b[0m       \u001b[32m0.56452\u001b[0m      1.08699      0.78162  3.56s\n",
      "      7       \u001b[36m0.60270\u001b[0m       \u001b[32m0.55902\u001b[0m      1.07813      0.78561  3.53s\n",
      "      8       \u001b[36m0.59747\u001b[0m       \u001b[32m0.55123\u001b[0m      1.08388      0.78834  3.36s\n",
      "      9       \u001b[36m0.58576\u001b[0m       \u001b[32m0.54748\u001b[0m      1.06993      0.78846  3.09s\n",
      "     10       \u001b[36m0.57831\u001b[0m       \u001b[32m0.54141\u001b[0m      1.06816      0.79091  2.70s\n",
      "     11       \u001b[36m0.57493\u001b[0m       \u001b[32m0.53642\u001b[0m      1.07180      0.79273  2.59s\n",
      "     12       \u001b[36m0.56908\u001b[0m       \u001b[32m0.53457\u001b[0m      1.06455      0.79281  2.62s\n",
      "     13       \u001b[36m0.56285\u001b[0m       \u001b[32m0.53204\u001b[0m      1.05792      0.79140  2.92s\n",
      "     14       \u001b[36m0.55793\u001b[0m       \u001b[32m0.53083\u001b[0m      1.05106      0.79547  3.11s\n",
      "     15       \u001b[36m0.55493\u001b[0m       \u001b[32m0.52859\u001b[0m      1.04983      0.79494  3.25s\n",
      "     16       \u001b[36m0.55028\u001b[0m       \u001b[32m0.52766\u001b[0m      1.04288      0.79631  2.86s\n",
      "     17       \u001b[36m0.54564\u001b[0m       \u001b[32m0.52605\u001b[0m      1.03726      0.79625  3.30s\n",
      "     18       \u001b[36m0.54439\u001b[0m       \u001b[32m0.52250\u001b[0m      1.04189      0.79748  2.39s\n",
      "     19       \u001b[36m0.54268\u001b[0m       0.52311      1.03741      0.79644  3.06s\n",
      "     20       \u001b[36m0.53716\u001b[0m       \u001b[32m0.51809\u001b[0m      1.03681      0.79740  2.06s\n",
      "CPU times: user 47.8 s, sys: 3.15 s, total: 51 s\n",
      "Wall time: 1min 4s\n"
     ]
    },
    {
     "data": {
      "text/plain": [
       "NeuralNet(X_tensor_type=None,\n",
       "     batch_iterator_test=<nolearn.lasagne.base.BatchIterator object at 0x1092532d0>,\n",
       "     batch_iterator_train=<nolearn.lasagne.base.BatchIterator object at 0x109253250>,\n",
       "     custom_score=None, dense0_num_units=200, dense1_num_units=200,\n",
       "     dropout_p=0.5, input_shape=(None, 93),\n",
       "     layers=[('input', <class 'lasagne.layers.input.InputLayer'>), ('dense0', <class 'lasagne.layers.dense.DenseLayer'>), ('dropout', <class 'lasagne.layers.noise.DropoutLayer'>), ('dense1', <class 'lasagne.layers.dense.DenseLayer'>), ('output', <class 'lasagne.layers.dense.DenseLayer'>)],\n",
       "     loss=None, max_epochs=20, more_params={},\n",
       "     objective=<function objective at 0x109254140>,\n",
       "     objective_loss_function=<function categorical_crossentropy at 0x1090ba758>,\n",
       "     on_batch_finished=[],\n",
       "     on_epoch_finished=[<nolearn.lasagne.handlers.PrintLog instance at 0x10927cb90>],\n",
       "     on_training_finished=[],\n",
       "     on_training_started=[<nolearn.lasagne.handlers.PrintLayerInfo instance at 0x109284d40>],\n",
       "     output_nonlinearity=<function softmax at 0x108e5de60>,\n",
       "     output_num_units=9, regression=False,\n",
       "     train_split=<nolearn.lasagne.base.TrainSplit object at 0x109253310>,\n",
       "     update=<function nesterov_momentum at 0x1090c8578>,\n",
       "     update_learning_rate=0.01, update_momentum=0.9,\n",
       "     use_label_encoder=False, verbose=1,\n",
       "     y_tensor_type=TensorType(int32, vector))"
      ]
     },
     "execution_count": 11,
     "metadata": {},
     "output_type": "execute_result"
    }
   ],
   "source": [
    "%%time\n",
    "net0.fit(X, y)"
   ]
  },
  {
   "cell_type": "markdown",
   "metadata": {},
   "source": [
    "**Предсказание для тестовых данных**"
   ]
  },
  {
   "cell_type": "code",
   "execution_count": 12,
   "metadata": {
    "collapsed": false
   },
   "outputs": [
    {
     "name": "stdout",
     "output_type": "stream",
     "text": [
      "Wrote submission to file ../output/lasagne_otto.csv.\n"
     ]
    }
   ],
   "source": [
    "make_submission(net0, X_test, ids, encoder, \n",
    "                name=\"../output/lasagne_otto.csv\")"
   ]
  },
  {
   "cell_type": "markdown",
   "metadata": {},
   "source": [
    "**У такой посылки на Kaggle результат multi_log_loss=0.52814.**"
   ]
  },
  {
   "cell_type": "markdown",
   "metadata": {},
   "source": [
    "### Ссылки\n",
    "\n",
    "- <a href=\"https://pythonhosted.org/nolearn/\">Документация</a> Nolearn\n",
    "- <a href=\"https://www.kaggle.com/c/otto-group-product-classification-challenge\">Соревнование</a> Kaggle компании Otto по категоризации продуктов\n",
    "- <a href=\"https://github.com/ottogroup\">Репозиторий</a> компании Otto\n",
    "- <a href=\"https://github.com/dnouri/nolearn\">Репозиторий</a> Nolearn\n",
    "- <a href=\"https://github.com/benanne/Lasagne\">Репозиторий</a> Lasagne\n",
    "- <a href=\"http://danielnouri.org/notes/2014/12/17/using-convolutional-neural-nets-to-detect-facial-keypoints-tutorial/\">Тьюториал</a> Nolearn/lasagne по сверточным нейронным сетям. "
   ]
  }
 ],
 "metadata": {
  "kernelspec": {
   "display_name": "Python 2",
   "language": "python",
   "name": "python2"
  },
  "language_info": {
   "codemirror_mode": {
    "name": "ipython",
    "version": 2
   },
   "file_extension": ".py",
   "mimetype": "text/x-python",
   "name": "python",
   "nbconvert_exporter": "python",
   "pygments_lexer": "ipython2",
   "version": "2.7.10"
  }
 },
 "nbformat": 4,
 "nbformat_minor": 0
}
