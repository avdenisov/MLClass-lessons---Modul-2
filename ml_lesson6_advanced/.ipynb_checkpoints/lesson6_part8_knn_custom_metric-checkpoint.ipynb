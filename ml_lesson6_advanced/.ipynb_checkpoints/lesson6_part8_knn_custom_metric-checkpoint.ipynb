{
 "cells": [
  {
   "cell_type": "markdown",
   "metadata": {},
   "source": [
    "# MLClass. \"Прикладной анализ данных\"\n",
    "# Модуль \"Машинное обучение с помощью Python\"\n",
    "<img src=\"../img/mlclass_logo.jpg\" height=\"240\" width=\"240\">\n",
    "## Авторы материала: преподаватель ФКН НИУ ВШЭ Кашницкий Юрий, магистрант ВМК МГУ Евгений Колмаков\n",
    "Материал распространяется на условиях лицензии <a href=\"http://creativecommons.org/licenses/by-sa/4.0/\">Creative Commons Attribution-Share Alike 4.0</a>. Можно использовать в любых целях, но с обязательным упоминанием автора курса и аффилиации."
   ]
  },
  {
   "cell_type": "markdown",
   "metadata": {},
   "source": [
    "# Урок 6. Нейронные сети. Бустинг. Смешивание алгоритмов. Стекинг.\n",
    "## Часть 8.  kNN с метрикой, определенной пользователем"
   ]
  },
  {
   "cell_type": "code",
   "execution_count": 1,
   "metadata": {
    "collapsed": false
   },
   "outputs": [
    {
     "name": "stdout",
     "output_type": "stream",
     "text": [
      "Populating the interactive namespace from numpy and matplotlib\n"
     ]
    }
   ],
   "source": [
    "%pylab inline\n",
    "import numpy as np\n",
    "from math import sqrt\n",
    "import pandas as pd\n",
    "from sklearn.neighbors import KNeighborsClassifier\n",
    "from sklearn.grid_search import GridSearchCV\n",
    "from load_car_insurance_with_region import load_train_and_test\n",
    "from sklearn.metrics import roc_auc_score\n",
    "from sklearn.cross_validation import StratifiedKFold"
   ]
  },
  {
   "cell_type": "code",
   "execution_count": 2,
   "metadata": {
    "collapsed": true
   },
   "outputs": [],
   "source": [
    "# read data\n",
    "X_train, y, X_test = map(np.array, load_train_and_test(\"../data/car_insurance_train.csv\",\n",
    "                                         \"../data/car_insurance_test.csv\"))"
   ]
  },
  {
   "cell_type": "code",
   "execution_count": 3,
   "metadata": {
    "collapsed": false
   },
   "outputs": [
    {
     "data": {
      "text/plain": [
       "array([[   2, 3200,   21],\n",
       "       [   5, 6500,   12],\n",
       "       [   2, 2100,    9],\n",
       "       [   2, 2000,    4],\n",
       "       [   2, 6100,   21],\n",
       "       [   2, 5700,    6],\n",
       "       [   2, 1800,   21],\n",
       "       [   2,  500,    1],\n",
       "       [   2, 1000,    3],\n",
       "       [   2,  500,    1]])"
      ]
     },
     "execution_count": 3,
     "metadata": {},
     "output_type": "execute_result"
    }
   ],
   "source": [
    "X_train[:10]"
   ]
  },
  {
   "cell_type": "code",
   "execution_count": null,
   "metadata": {
    "collapsed": true
   },
   "outputs": [],
   "source": [
    "def my_dist_metric(region_weight, brand_weight):\n",
    "    def dist(x,y):\n",
    "        return sqrt(region_weight * (x[2] - y[2]) ** 2 + \n",
    "                    brand_weight * (x[0] - y[0]) ** 2 +\n",
    "                    (1 - region_weight - brand_weight) * (x[1] - y[1]) ** 2)\n",
    "    return dist"
   ]
  },
  {
   "cell_type": "code",
   "execution_count": null,
   "metadata": {
    "collapsed": false
   },
   "outputs": [],
   "source": [
    "results = []\n",
    "\n",
    "params = [(neighbors, reg_weight, brand_weight, 1 - reg_weight - brand_weight)\n",
    "          for reg_weight in np.arange(0, 1, 0.05)\n",
    "          for brand_weight in np.arange(0, 1 - reg_weight, 0.05)\n",
    "          for neighbors in range(1,12)]\n",
    "\n",
    "for (n_neighbors, reg_weight, brand_weight, comp_weight) in params:\n",
    "        scores = []\n",
    "        dist_func = my_dist_metric(reg_weight, brand_weight)\n",
    "        \n",
    "        knn = KNeighborsClassifier(n_neighbors=n_neighbors,\n",
    "                                   metric='pyfunc', \n",
    "                                   func=dist_func)\n",
    "        \n",
    "        folds = StratifiedKFold(y, n_folds=3, \n",
    "                                random_state=42)\n",
    "        for train_index, test_index in folds:\n",
    "            x_train, x_test = X_train[train_index], \\\n",
    "                                  X_train[test_index]\n",
    "            y_train, y_test = y[train_index], y[test_index]\n",
    "            knn.fit(x_train, y_train)\n",
    "            scores.append(roc_auc_score(knn.predict(x_test), y_test))\n",
    "        results.append(np.mean(scores))\n",
    "            "
   ]
  },
  {
   "cell_type": "code",
   "execution_count": null,
   "metadata": {
    "collapsed": false
   },
   "outputs": [],
   "source": [
    "max_auc = max(results)\n",
    "max_auc, params[np.argmax(results)]"
   ]
  },
  {
   "cell_type": "code",
   "execution_count": null,
   "metadata": {
    "collapsed": false
   },
   "outputs": [],
   "source": [
    "knn = KNeighborsClassifier(n_neighbors=11,\n",
    "                           metric='pyfunc', \n",
    "                           func=my_dist_metric(.0, .05))\n",
    "knn.fit(X_train, y)"
   ]
  },
  {
   "cell_type": "code",
   "execution_count": null,
   "metadata": {
    "collapsed": false
   },
   "outputs": [],
   "source": [
    "predicted_labels = knn.predict(X_test)\n",
    "\n",
    "# # turn predictions into data frame and save as csv file\n",
    "predicted_df = pd.DataFrame(predicted_labels,\n",
    "                            index = np.arange(1, X_test.shape[0] + 1),\n",
    "                            columns=[\"too_much\"])\n",
    "predicted_df.to_csv(\"../output/knn_car_insurance_custom_metric.csv\", \n",
    "                    index_label=\"id\")\n",
    "\n",
    "# that's for those who know the answers :)\n",
    "# expected_labels_df = pd.read_csv(\"../data/car_insurance_test_labels.csv\",\n",
    "#                                  header=0, index_col=0)\n",
    "# expected_labels = expected_labels_df['too_much']\n",
    "# print(roc_auc_score(predicted_labels, expected_labels))\n"
   ]
  }
 ],
 "metadata": {
  "kernelspec": {
   "display_name": "Python 2",
   "language": "python",
   "name": "python2"
  },
  "language_info": {
   "codemirror_mode": {
    "name": "ipython",
    "version": 2
   },
   "file_extension": ".py",
   "mimetype": "text/x-python",
   "name": "python",
   "nbconvert_exporter": "python",
   "pygments_lexer": "ipython2",
   "version": "2.7.10"
  }
 },
 "nbformat": 4,
 "nbformat_minor": 0
}
