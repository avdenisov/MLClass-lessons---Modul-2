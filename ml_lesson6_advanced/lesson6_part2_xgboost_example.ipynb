{
 "cells": [
  {
   "cell_type": "markdown",
   "metadata": {},
   "source": [
    "# MLClass. \"Прикладной анализ данных\"\n",
    "# Модуль \"Машинное обучение с помощью Python\"\n",
    "<img src=\"../img/mlclass_logo.jpg\" height=\"240\" width=\"240\">\n",
    "## Авторы материала: преподаватель ФКН НИУ ВШЭ Кашницкий Юрий, магистрант ВМК МГУ Евгений Колмаков\n",
    "Материал распространяется на условиях лицензии <a href=\"http://creativecommons.org/licenses/by-sa/4.0/\">Creative Commons Attribution-Share Alike 4.0</a>. Можно использовать в любых целях, но с обязательным упоминанием автора курса и аффилиации."
   ]
  },
  {
   "cell_type": "markdown",
   "metadata": {},
   "source": [
    "# Урок 6. Нейронные сети. Бустинг. Смешивание алгоритмов. Стекинг.\n",
    "## Часть 2. Пример использования библиотеки XGBoost"
   ]
  },
  {
   "cell_type": "markdown",
   "metadata": {},
   "source": [
    "<a href=\"https://github.com/dmlc/xgboost/blob/master/doc/parameter.md\">Параметры</a> Xgboost"
   ]
  },
  {
   "cell_type": "code",
   "execution_count": 1,
   "metadata": {
    "collapsed": true
   },
   "outputs": [],
   "source": [
    "import pickle\n",
    "import xgboost as xgb\n",
    "\n",
    "import numpy as np\n",
    "from sklearn.cross_validation import KFold, train_test_split\n",
    "from sklearn.metrics import confusion_matrix, mean_squared_error\n",
    "from sklearn.grid_search import GridSearchCV\n",
    "from sklearn.datasets import load_iris, load_digits, load_boston"
   ]
  },
  {
   "cell_type": "markdown",
   "metadata": {},
   "source": [
    "**Пример классификации на данных Iris**"
   ]
  },
  {
   "cell_type": "code",
   "execution_count": 2,
   "metadata": {
    "collapsed": false
   },
   "outputs": [
    {
     "name": "stdout",
     "output_type": "stream",
     "text": [
      "[[ 9  0  0]\n",
      " [ 0  8  0]\n",
      " [ 0  2 11]]\n",
      "[[10  0  0]\n",
      " [ 0  9  1]\n",
      " [ 0  1  9]]\n",
      "[[9 0 0]\n",
      " [0 9 1]\n",
      " [0 2 9]]\n",
      "[[12  0  0]\n",
      " [ 0 10  1]\n",
      " [ 0  0  7]]\n",
      "[[10  0  0]\n",
      " [ 0 11  0]\n",
      " [ 0  0  9]]\n"
     ]
    }
   ],
   "source": [
    "iris = load_iris()\n",
    "X = iris['data']\n",
    "y = iris['target']\n",
    "kf = KFold(y.shape[0], n_folds=5, shuffle=True, random_state=13)\n",
    "for train_index, test_index in kf:\n",
    "    xgb_model = xgb.XGBClassifier().fit(X[train_index],y[train_index])\n",
    "    predictions = xgb_model.predict(X[test_index])\n",
    "    actuals = y[test_index]\n",
    "    print(confusion_matrix(actuals, predictions))"
   ]
  },
  {
   "cell_type": "markdown",
   "metadata": {},
   "source": [
    "**Пример восстановления регрессии на данных boston**"
   ]
  },
  {
   "cell_type": "code",
   "execution_count": 3,
   "metadata": {
    "collapsed": false
   },
   "outputs": [
    {
     "name": "stdout",
     "output_type": "stream",
     "text": [
      "8.09713971121\n",
      "8.92640829762\n",
      "18.2997739166\n",
      "6.73819019067\n",
      "8.47392738812\n"
     ]
    }
   ],
   "source": [
    "boston = load_boston()\n",
    "y = boston['target']\n",
    "X = boston['data']\n",
    "kf = KFold(y.shape[0], n_folds=5, shuffle=True, random_state=17)\n",
    "for train_index, test_index in kf:\n",
    "    xgb_model = xgb.XGBRegressor().fit(X[train_index],y[train_index])\n",
    "    predictions = xgb_model.predict(X[test_index])\n",
    "    actuals = y[test_index]\n",
    "    print(mean_squared_error(actuals, predictions))"
   ]
  },
  {
   "cell_type": "markdown",
   "metadata": {},
   "source": [
    "**Кросс-валидация**"
   ]
  },
  {
   "cell_type": "code",
   "execution_count": 4,
   "metadata": {
    "collapsed": false
   },
   "outputs": [
    {
     "name": "stderr",
     "output_type": "stream",
     "text": [
      "[Parallel(n_jobs=1)]: Done   1 jobs       | elapsed:    0.1s\n",
      "[Parallel(n_jobs=1)]: Done  27 out of  27 | elapsed:    4.9s finished\n"
     ]
    },
    {
     "name": "stdout",
     "output_type": "stream",
     "text": [
      "Fitting 3 folds for each of 9 candidates, totalling 27 fits\n",
      "0.598487920717\n",
      "{'n_estimators': 100, 'max_depth': 4}\n"
     ]
    }
   ],
   "source": [
    "X = boston['data']\n",
    "y = boston['target']\n",
    "\n",
    "xgb_model = xgb.XGBRegressor()\n",
    "clf = GridSearchCV(xgb_model,\n",
    "                   {'max_depth': [2,4,6],\n",
    "                    'n_estimators': [50,100,200]}, verbose=1)\n",
    "clf.fit(X,y)\n",
    "print(clf.best_score_)\n",
    "print(clf.best_params_)"
   ]
  },
  {
   "cell_type": "markdown",
   "metadata": {},
   "source": [
    "**Пример использования pickle для сохранения обученных моделей**"
   ]
  },
  {
   "cell_type": "code",
   "execution_count": 5,
   "metadata": {
    "collapsed": false
   },
   "outputs": [
    {
     "name": "stdout",
     "output_type": "stream",
     "text": [
      "True\n"
     ]
    }
   ],
   "source": [
    "# must open in binary format to pickle\n",
    "pickle.dump(clf, open(\"best_boston.pkl\", \"wb\"))\n",
    "clf2 = pickle.load(open(\"best_boston.pkl\", \"rb\"))\n",
    "print(np.allclose(clf.predict(X), clf2.predict(X)))"
   ]
  },
  {
   "cell_type": "markdown",
   "metadata": {},
   "source": [
    "**Ранняя остановка**"
   ]
  },
  {
   "cell_type": "code",
   "execution_count": 6,
   "metadata": {
    "collapsed": false
   },
   "outputs": [
    {
     "name": "stderr",
     "output_type": "stream",
     "text": [
      "Will train until validation_0 error hasn't decreased in 10 rounds.\n",
      "[0]\tvalidation_0-merror:0.168889\n",
      "[1]\tvalidation_0-merror:0.162222\n",
      "[2]\tvalidation_0-merror:0.151111\n",
      "[3]\tvalidation_0-merror:0.142222\n",
      "[4]\tvalidation_0-merror:0.131111\n",
      "[5]\tvalidation_0-merror:0.128889\n",
      "[6]\tvalidation_0-merror:0.124444\n",
      "[7]\tvalidation_0-merror:0.111111\n",
      "[8]\tvalidation_0-merror:0.113333\n",
      "[9]\tvalidation_0-merror:0.111111\n",
      "[10]\tvalidation_0-merror:0.111111\n",
      "[11]\tvalidation_0-merror:0.111111\n",
      "[12]\tvalidation_0-merror:0.106667\n",
      "[13]\tvalidation_0-merror:0.113333\n",
      "[14]\tvalidation_0-merror:0.108889\n",
      "[15]\tvalidation_0-merror:0.104444\n",
      "[16]\tvalidation_0-merror:0.102222\n",
      "[17]\tvalidation_0-merror:0.102222\n",
      "[18]\tvalidation_0-merror:0.102222\n",
      "[19]\tvalidation_0-merror:0.104444\n",
      "[20]\tvalidation_0-merror:0.104444\n",
      "[21]\tvalidation_0-merror:0.100000\n",
      "[22]\tvalidation_0-merror:0.093333\n",
      "[23]\tvalidation_0-merror:0.086667\n",
      "[24]\tvalidation_0-merror:0.086667\n",
      "[25]\tvalidation_0-merror:0.084444\n",
      "[26]\tvalidation_0-merror:0.088889\n",
      "[27]\tvalidation_0-merror:0.086667\n",
      "[28]\tvalidation_0-merror:0.086667\n",
      "[29]\tvalidation_0-merror:0.084444\n",
      "[30]\tvalidation_0-merror:0.082222\n",
      "[31]\tvalidation_0-merror:0.082222\n",
      "[32]\tvalidation_0-merror:0.080000\n",
      "[33]\tvalidation_0-merror:0.082222\n",
      "[34]\tvalidation_0-merror:0.080000\n",
      "[35]\tvalidation_0-merror:0.077778\n",
      "[36]\tvalidation_0-merror:0.077778\n",
      "[37]\tvalidation_0-merror:0.071111\n",
      "[38]\tvalidation_0-merror:0.071111\n",
      "[39]\tvalidation_0-merror:0.071111\n",
      "[40]\tvalidation_0-merror:0.068889\n",
      "[41]\tvalidation_0-merror:0.068889\n",
      "[42]\tvalidation_0-merror:0.071111\n",
      "[43]\tvalidation_0-merror:0.068889\n",
      "[44]\tvalidation_0-merror:0.068889\n",
      "[45]\tvalidation_0-merror:0.071111\n",
      "[46]\tvalidation_0-merror:0.071111\n",
      "[47]\tvalidation_0-merror:0.071111\n",
      "[48]\tvalidation_0-merror:0.068889\n",
      "[49]\tvalidation_0-merror:0.068889\n",
      "[50]\tvalidation_0-merror:0.066667\n",
      "[51]\tvalidation_0-merror:0.066667\n",
      "[52]\tvalidation_0-merror:0.064444\n",
      "[53]\tvalidation_0-merror:0.062222\n",
      "[54]\tvalidation_0-merror:0.062222\n",
      "[55]\tvalidation_0-merror:0.062222\n",
      "[56]\tvalidation_0-merror:0.066667\n",
      "[57]\tvalidation_0-merror:0.062222\n",
      "[58]\tvalidation_0-merror:0.060000\n",
      "[59]\tvalidation_0-merror:0.062222\n",
      "[60]\tvalidation_0-merror:0.060000\n",
      "[61]\tvalidation_0-merror:0.062222\n",
      "[62]\tvalidation_0-merror:0.060000\n",
      "[63]\tvalidation_0-merror:0.060000\n",
      "[64]\tvalidation_0-merror:0.060000\n",
      "[65]\tvalidation_0-merror:0.060000\n",
      "[66]\tvalidation_0-merror:0.060000\n",
      "[67]\tvalidation_0-merror:0.060000\n",
      "[68]\tvalidation_0-merror:0.060000\n",
      "Stopping. Best iteration:\n",
      "[58]\tvalidation_0-merror:0.060000\n",
      "\n"
     ]
    },
    {
     "data": {
      "text/plain": [
       "XGBClassifier(base_score=0.5, colsample_bylevel=1, colsample_bytree=1,\n",
       "       gamma=0, learning_rate=0.1, max_delta_step=0, max_depth=3,\n",
       "       min_child_weight=1, missing=None, n_estimators=100, nthread=-1,\n",
       "       objective='multi:softprob', reg_alpha=0, reg_lambda=1,\n",
       "       scale_pos_weight=1, seed=0, silent=True, subsample=1)"
      ]
     },
     "execution_count": 6,
     "metadata": {},
     "output_type": "execute_result"
    }
   ],
   "source": [
    "digits = load_digits()\n",
    "\n",
    "X = digits['data']\n",
    "y = digits['target']\n",
    "X_train, X_test, y_train, y_test = train_test_split(X, y, random_state=0)\n",
    "clf = xgb.XGBClassifier()\n",
    "clf.fit(X_train, y_train, early_stopping_rounds=10, eval_metric=\"merror\",\n",
    "        eval_set=[(X_test, y_test)])"
   ]
  }
 ],
 "metadata": {
  "kernelspec": {
   "display_name": "Python 2",
   "language": "python",
   "name": "python2"
  },
  "language_info": {
   "codemirror_mode": {
    "name": "ipython",
    "version": 2
   },
   "file_extension": ".py",
   "mimetype": "text/x-python",
   "name": "python",
   "nbconvert_exporter": "python",
   "pygments_lexer": "ipython2",
   "version": "2.7.10"
  }
 },
 "nbformat": 4,
 "nbformat_minor": 0
}
