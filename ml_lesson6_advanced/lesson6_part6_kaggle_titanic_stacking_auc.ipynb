{
 "cells": [
  {
   "cell_type": "markdown",
   "metadata": {},
   "source": [
    "# MLClass. \"Прикладной анализ данных\"\n",
    "# Модуль \"Машинное обучение с помощью Python\"\n",
    "<img src=\"../img/mlclass_logo.jpg\" height=\"240\" width=\"240\">\n",
    "## Автор материала: преподаватель ФКН НИУ ВШЭ Кашницкий Юрий\n",
    "Материал распространяется на условиях лицензии <a href=\"http://creativecommons.org/licenses/by-sa/4.0/\">Creative Commons Attribution-Share Alike 4.0</a>. Можно использовать в любых целях, но с обязательным упоминанием автора курса и аффилиации."
   ]
  },
  {
   "cell_type": "markdown",
   "metadata": {},
   "source": [
    "# Урок 6. Нейронные сети. Бустинг. Смешивание алгоритмов. Стекинг.\n",
    "## Часть 6.  3-кратный стекинг для набора данных Titanic. ROC AUC "
   ]
  },
  {
   "cell_type": "markdown",
   "metadata": {},
   "source": [
    "<a href=\"https://www.kaggle.com/c/titanic\">Соревнование</a>.\n",
    "\n",
    "Подключаем библиотеки"
   ]
  },
  {
   "cell_type": "code",
   "execution_count": 1,
   "metadata": {
    "collapsed": false
   },
   "outputs": [
    {
     "name": "stdout",
     "output_type": "stream",
     "text": [
      "Populating the interactive namespace from numpy and matplotlib\n"
     ]
    }
   ],
   "source": [
    "import pandas as pd\n",
    "import numpy as np\n",
    "%pylab inline\n",
    "figsize(12, 8)\n",
    "import seaborn as sns\n",
    "from sklearn.preprocessing import scale\n",
    "from sklearn.ensemble import RandomForestClassifier, RandomForestRegressor\n",
    "from sklearn.svm import LinearSVC\n",
    "from sklearn.neighbors import KNeighborsClassifier\n",
    "from sklearn.cross_validation import train_test_split, StratifiedKFold\n",
    "from sklearn.grid_search import GridSearchCV\n",
    "from sklearn.cross_validation import cross_val_score\n",
    "from sklearn.metrics import roc_auc_score\n",
    "from scipy.stats.stats import pearsonr \n",
    "from load_titanic_with_features import load_titanic"
   ]
  },
  {
   "cell_type": "markdown",
   "metadata": {},
   "source": [
    "Считываем данные"
   ]
  },
  {
   "cell_type": "code",
   "execution_count": 37,
   "metadata": {
    "collapsed": false
   },
   "outputs": [
    {
     "name": "stdout",
     "output_type": "stream",
     "text": [
      "CPU times: user 156 ms, sys: 11.4 ms, total: 168 ms\n",
      "Wall time: 176 ms\n"
     ]
    }
   ],
   "source": [
    "%%time\n",
    "X_train, y, X_test, = map(np.array, \n",
    "                          load_titanic(\"../data/titanic_train.csv\",\n",
    "                                   \"../data/titanic_test.csv\"))"
   ]
  },
  {
   "cell_type": "markdown",
   "metadata": {},
   "source": [
    "Разобьем обучающую выборку на валидационную и проверочную (holdout) части."
   ]
  },
  {
   "cell_type": "code",
   "execution_count": 38,
   "metadata": {
    "collapsed": false
   },
   "outputs": [],
   "source": [
    "X_valid, X_holdout, y_valid, y_holdout = train_test_split(X_train, y, \n",
    "                                                          train_size=0.8, \n",
    "                                                          random_state=13)"
   ]
  },
  {
   "cell_type": "markdown",
   "metadata": {},
   "source": [
    "Для kNN отшкалируем данные"
   ]
  },
  {
   "cell_type": "code",
   "execution_count": 39,
   "metadata": {
    "collapsed": true
   },
   "outputs": [],
   "source": [
    "X_train_scaled = scale(X_train)\n",
    "X_test_scaled = scale(X_test)\n",
    "X_valid_scaled, X_holdout_scaled, y_valid_scaled, y_holdout_scaled = \\\n",
    "    train_test_split(X_train_scaled, y, train_size=0.8, random_state=13)"
   ]
  },
  {
   "cell_type": "code",
   "execution_count": 44,
   "metadata": {
    "collapsed": false
   },
   "outputs": [
    {
     "data": {
      "text/plain": [
       "((712, 8), (179, 8))"
      ]
     },
     "execution_count": 44,
     "metadata": {},
     "output_type": "execute_result"
    }
   ],
   "source": [
    "shape(X_valid), shape(X_holdout)"
   ]
  },
  {
   "cell_type": "markdown",
   "metadata": {},
   "source": [
    "Напишем функцию для вывода результатов в виде, готовом для посылки на Kaggle."
   ]
  },
  {
   "cell_type": "code",
   "execution_count": 6,
   "metadata": {
    "collapsed": true
   },
   "outputs": [],
   "source": [
    "def write_to_file(predicted_labels, filename, init_index=892):\n",
    "    predicted_df = pd.DataFrame(predicted_labels,\n",
    "                index = np.arange(init_index, \n",
    "                                  init_index + \\\n",
    "                                  X_test.shape[0]),\n",
    "                columns=[\"Survived\"])\n",
    "    predicted_df.to_csv(filename, \n",
    "                        index_label=\"PassengerId\")"
   ]
  },
  {
   "cell_type": "markdown",
   "metadata": {},
   "source": [
    "## kNN"
   ]
  },
  {
   "cell_type": "code",
   "execution_count": 7,
   "metadata": {
    "collapsed": false
   },
   "outputs": [
    {
     "name": "stdout",
     "output_type": "stream",
     "text": [
      "CPU times: user 8.29 s, sys: 239 ms, total: 8.52 s\n",
      "Wall time: 8.51 s\n"
     ]
    }
   ],
   "source": [
    "%%time\n",
    "\n",
    "res = []\n",
    "\n",
    "neighb = np.arange(1, 300)\n",
    "\n",
    "for n in neighb:\n",
    "    scores = cross_val_score(KNeighborsClassifier(n_neighbors=n), \n",
    "                            X_valid_scaled, y_valid, \n",
    "                            scoring=\"roc_auc\",\n",
    "                            cv=3)\n",
    "    res.append(np.mean(scores))"
   ]
  },
  {
   "cell_type": "code",
   "execution_count": 8,
   "metadata": {
    "collapsed": false
   },
   "outputs": [
    {
     "data": {
      "text/plain": [
       "(0.85473422145214151, 17)"
      ]
     },
     "execution_count": 8,
     "metadata": {},
     "output_type": "execute_result"
    },
    {
     "data": {
      "image/png": "[encoded data removed]",
      "text/plain": [
       "<matplotlib.figure.Figure at 0x1045625d0>"
      ]
     },
     "metadata": {},
     "output_type": "display_data"
    }
   ],
   "source": [
    "plot(neighb, res)\n",
    "knn_valid_auc = max(res)\n",
    "knn_valid_auc, neighb[np.argmax(res)]"
   ]
  },
  {
   "cell_type": "code",
   "execution_count": 9,
   "metadata": {
    "collapsed": false
   },
   "outputs": [],
   "source": [
    "thresholds = np.arange(-2.0, 2.0, 0.025)\n",
    "results = []\n",
    "\n",
    "knn = KNeighborsClassifier(n_neighbors=17)\n",
    "\n",
    "for thres in thresholds:\n",
    "    folds = StratifiedKFold(y_valid, n_folds=5, random_state=42)\n",
    "    scores = []\n",
    "    for train_index, test_index in folds:\n",
    "        x_train, x_test = X_valid_scaled[train_index, :], \\\n",
    "                          X_valid_scaled[test_index, :]\n",
    "        y_train, y_test = y_valid[train_index], y_valid[test_index]\n",
    "        knn.fit(x_train, y_train)\n",
    "        y_pred = (1 - knn.predict_proba(x_test)[:,0]\n",
    "                                   >= thres).astype(int)\n",
    "        if(len(np.unique(y_pred)) > 1):\n",
    "            scores.append(roc_auc_score(y_pred, y_test))\n",
    "        else:\n",
    "            scores.append(0)\n",
    "    results.append(np.mean(scores))"
   ]
  },
  {
   "cell_type": "code",
   "execution_count": 10,
   "metadata": {
    "collapsed": false
   },
   "outputs": [
    {
     "data": {
      "text/plain": [
       "(0.83995350666229596, 0.64999999999999059)"
      ]
     },
     "execution_count": 10,
     "metadata": {},
     "output_type": "execute_result"
    },
    {
     "data": {
      "image/png": "[encoded data removed]",
      "text/plain": [
       "<matplotlib.figure.Figure at 0x109ee28d0>"
      ]
     },
     "metadata": {},
     "output_type": "display_data"
    }
   ],
   "source": [
    "plot(thresholds, results)\n",
    "knn_valid_thres_auc = max(results)\n",
    "knn_valid_thres_auc, thresholds[np.argmax(results)]"
   ]
  },
  {
   "cell_type": "markdown",
   "metadata": {},
   "source": [
    "**Сохраним предсказания модели в процессе 3-кратной кросс-валидации и проверим модель на X_holdout**"
   ]
  },
  {
   "cell_type": "code",
   "execution_count": 11,
   "metadata": {
    "collapsed": false
   },
   "outputs": [],
   "source": [
    "knn = KNeighborsClassifier(n_neighbors=17)\n",
    "knn_predictions = []\n",
    "\n",
    "folds = StratifiedKFold(y_valid, n_folds=3, random_state=42)\n",
    "for train_index, test_index in folds:\n",
    "    x_train, x_test = X_valid_scaled[train_index, :], \\\n",
    "                          X_valid_scaled[test_index, :]\n",
    "    y_train, y_test = y_valid[train_index], y_valid[test_index]\n",
    "    knn.fit(x_train, y_train)\n",
    "    y_pred = (1 - knn.predict_proba(x_test)[:,0] - 0.65)\n",
    "    knn_predictions.extend(y_pred)"
   ]
  },
  {
   "cell_type": "code",
   "execution_count": 12,
   "metadata": {
    "collapsed": false
   },
   "outputs": [
    {
     "data": {
      "text/plain": [
       "0.82576005230467464"
      ]
     },
     "execution_count": 12,
     "metadata": {},
     "output_type": "execute_result"
    }
   ],
   "source": [
    "knn = KNeighborsClassifier(n_neighbors=17)\n",
    "knn.fit(X_valid_scaled, y_valid_scaled)\n",
    "roc_auc_score((1 - knn.predict_proba(X_holdout_scaled)[:,0] \n",
    "               - 0.65 >= 0).astype(int), y_holdout)\n",
    "                       "
   ]
  },
  {
   "cell_type": "markdown",
   "metadata": {},
   "source": [
    "## Линейный SVM"
   ]
  },
  {
   "cell_type": "code",
   "execution_count": 13,
   "metadata": {
    "collapsed": false
   },
   "outputs": [
    {
     "name": "stdout",
     "output_type": "stream",
     "text": [
      "CPU times: user 6.3 s, sys: 7.83 ms, total: 6.3 s\n",
      "Wall time: 6.31 s\n"
     ]
    }
   ],
   "source": [
    "%%time\n",
    "\n",
    "res = []\n",
    "\n",
    "degrees = np.arange(-5., 5., 0.1)\n",
    "\n",
    "for deg in degrees:\n",
    "    scores = cross_val_score(LinearSVC(C=10 ** deg), \n",
    "                            X_valid, y_valid, \n",
    "                            scoring=\"roc_auc\", cv=3)\n",
    "    res.append(np.mean(scores))"
   ]
  },
  {
   "cell_type": "code",
   "execution_count": 15,
   "metadata": {
    "collapsed": false
   },
   "outputs": [
    {
     "data": {
      "text/plain": [
       "(0.84364775565502426, -1.8000000000000114)"
      ]
     },
     "execution_count": 15,
     "metadata": {},
     "output_type": "execute_result"
    },
    {
     "data": {
      "image/png": "[encoded data removed]",
      "text/plain": [
       "<matplotlib.figure.Figure at 0x10a359890>"
      ]
     },
     "metadata": {},
     "output_type": "display_data"
    }
   ],
   "source": [
    "plot(degrees, res)\n",
    "lin_svc_valid_auc = max(res)\n",
    "lin_svc_valid_auc, degrees[list(res).index(max(res))]"
   ]
  },
  {
   "cell_type": "markdown",
   "metadata": {},
   "source": [
    "Ищем значения параметра C в более узком диапазоне."
   ]
  },
  {
   "cell_type": "code",
   "execution_count": 16,
   "metadata": {
    "collapsed": false
   },
   "outputs": [
    {
     "name": "stdout",
     "output_type": "stream",
     "text": [
      "CPU times: user 2.2 s, sys: 4.17 ms, total: 2.2 s\n",
      "Wall time: 2.2 s\n"
     ]
    }
   ],
   "source": [
    "%%time\n",
    "\n",
    "res = []\n",
    "\n",
    "degrees = np.arange(-2, -0.5, 0.05)\n",
    "\n",
    "for deg in degrees:\n",
    "    scores = cross_val_score(LinearSVC(C=10 ** deg), \n",
    "                            X_valid, y_valid, \n",
    "                            scoring=\"roc_auc\", cv=3)\n",
    "    res.append(np.mean(scores))"
   ]
  },
  {
   "cell_type": "code",
   "execution_count": 17,
   "metadata": {
    "collapsed": false
   },
   "outputs": [
    {
     "data": {
      "text/plain": [
       "(0.84620666973197023, -1.6499999999999997)"
      ]
     },
     "execution_count": 17,
     "metadata": {},
     "output_type": "execute_result"
    },
    {
     "data": {
      "image/png": "[encoded data removed]",
      "text/plain": [
       "<matplotlib.figure.Figure at 0x10a4bc0d0>"
      ]
     },
     "metadata": {},
     "output_type": "display_data"
    }
   ],
   "source": [
    "plot(degrees, res)\n",
    "lin_svc_valid_auc = max(res)\n",
    "lin_svc_valid_auc, degrees[list(res).index(max(res))]"
   ]
  },
  {
   "cell_type": "markdown",
   "metadata": {},
   "source": [
    "**Подберем порог отсечения, максимизирующий AUC в процессе кросс-валидации**"
   ]
  },
  {
   "cell_type": "code",
   "execution_count": 18,
   "metadata": {
    "collapsed": false
   },
   "outputs": [],
   "source": [
    "thresholds = np.arange(-2.0, 2.0, 0.025)\n",
    "results = []\n",
    "\n",
    "lin_svc = LinearSVC(C=10 ** -1.65)\n",
    "\n",
    "for thres in thresholds:\n",
    "    folds = StratifiedKFold(y_valid, n_folds=5, random_state=42)\n",
    "    scores = []\n",
    "    for train_index, test_index in folds:\n",
    "        x_train, x_test = X_valid[train_index, :], \\\n",
    "                          X_valid[test_index, :]\n",
    "        y_train, y_test = y_valid[train_index], y_valid[test_index]\n",
    "        lin_svc.fit(x_train, y_train)\n",
    "        y_pred = (lin_svc.decision_function(x_test) \n",
    "                                   >= thres).astype(int)\n",
    "        if len(np.unique(y_pred)) > 1:\n",
    "            scores.append(roc_auc_score(y_pred, y_test))\n",
    "        else:\n",
    "            scores.append(0)\n",
    "    results.append(np.mean(scores))"
   ]
  },
  {
   "cell_type": "code",
   "execution_count": 19,
   "metadata": {
    "collapsed": false
   },
   "outputs": [
    {
     "data": {
      "text/plain": [
       "(0.83116279845718244, 0.29999999999999183)"
      ]
     },
     "execution_count": 19,
     "metadata": {},
     "output_type": "execute_result"
    },
    {
     "data": {
      "image/png": "[encoded data removed]",
      "text/plain": [
       "<matplotlib.figure.Figure at 0x10b7b3e10>"
      ]
     },
     "metadata": {},
     "output_type": "display_data"
    }
   ],
   "source": [
    "plot(thresholds, results)\n",
    "lin_svc_valid_thres_auc = max(results)\n",
    "lin_svc_valid_thres_auc, thresholds[np.argmax(results)]"
   ]
  },
  {
   "cell_type": "markdown",
   "metadata": {},
   "source": [
    "**Сохраним предсказания модели в процессе 3-кратной кросс-валидации и проверим модель на X_holdout**"
   ]
  },
  {
   "cell_type": "code",
   "execution_count": 20,
   "metadata": {
    "collapsed": false
   },
   "outputs": [],
   "source": [
    "lin_svc = LinearSVC(C=10 ** -1.65)\n",
    "lin_svc_predictions = []\n",
    "\n",
    "folds = StratifiedKFold(y_valid, n_folds=3, random_state=42)\n",
    "\n",
    "for train_index, test_index in folds:\n",
    "    x_train, x_test = X_valid[train_index, :], \\\n",
    "                          X_valid[test_index, :]\n",
    "    y_train, y_test = y_valid[train_index], y_valid[test_index]\n",
    "    lin_svc.fit(x_train, y_train)\n",
    "    y_pred = lin_svc.decision_function(x_test) - 0.3\n",
    "    lin_svc_predictions.extend(y_pred)"
   ]
  },
  {
   "cell_type": "code",
   "execution_count": 21,
   "metadata": {
    "collapsed": false
   },
   "outputs": [
    {
     "data": {
      "text/plain": [
       "0.8202131043256996"
      ]
     },
     "execution_count": 21,
     "metadata": {},
     "output_type": "execute_result"
    }
   ],
   "source": [
    "lin_svc = LinearSVC(C=10 ** -1.65)\n",
    "lin_svc.fit(X_valid, y_valid)\n",
    "roc_auc_score((lin_svc.decision_function(X_holdout) \n",
    "               - 0.3 > 0).astype(int), y_holdout) "
   ]
  },
  {
   "cell_type": "markdown",
   "metadata": {},
   "source": [
    "## Случайный лес"
   ]
  },
  {
   "cell_type": "code",
   "execution_count": 22,
   "metadata": {
    "collapsed": false
   },
   "outputs": [
    {
     "name": "stdout",
     "output_type": "stream",
     "text": [
      "Fitting 3 folds for each of 75 candidates, totalling 225 fits\n"
     ]
    },
    {
     "name": "stderr",
     "output_type": "stream",
     "text": [
      "[Parallel(n_jobs=4)]: Done   1 jobs       | elapsed:    0.1s\n",
      "[Parallel(n_jobs=4)]: Done  50 jobs       | elapsed:    1.1s\n",
      "[Parallel(n_jobs=4)]: Done 200 jobs       | elapsed:    4.1s\n",
      "[Parallel(n_jobs=4)]: Done 225 out of 225 | elapsed:    4.8s finished\n"
     ]
    },
    {
     "name": "stdout",
     "output_type": "stream",
     "text": [
      "CPU times: user 783 ms, sys: 140 ms, total: 923 ms\n",
      "Wall time: 5.04 s\n"
     ]
    }
   ],
   "source": [
    "%%time\n",
    "\n",
    "forest_params = {'n_estimators': [10, 50, 100],\n",
    "                 'max_depth': list(range(1, 10, 2)),\n",
    "                 'min_samples_leaf': list(range(1, 10, 2))}\n",
    "\n",
    "locally_best_forest = GridSearchCV(RandomForestClassifier(),\n",
    "                                 forest_params,\n",
    "                                 verbose=True, n_jobs=4, cv=3,\n",
    "                                  scoring=\"roc_auc\")\n",
    "locally_best_forest.fit(X_valid, y_valid)\n",
    "\n",
    "res = locally_best_forest.grid_scores_"
   ]
  },
  {
   "cell_type": "code",
   "execution_count": 23,
   "metadata": {
    "collapsed": false
   },
   "outputs": [
    {
     "data": {
      "text/plain": [
       "(0.86967177752691394,\n",
       " {'max_depth': 7, 'min_samples_leaf': 5, 'n_estimators': 10},\n",
       " 51)"
      ]
     },
     "execution_count": 23,
     "metadata": {},
     "output_type": "execute_result"
    },
    {
     "data": {
      "image/png": "[encoded data removed]",
      "text/plain": [
       "<matplotlib.figure.Figure at 0x10bc48710>"
      ]
     },
     "metadata": {},
     "output_type": "display_data"
    }
   ],
   "source": [
    "scores, params = [r[1] for r in res], [r[0] for r in res]\n",
    "rf_valid_auc = max(scores)\n",
    "plot(range(len(params)), scores)\n",
    "rf_valid_auc, params[np.argmax(scores)], np.argmax(scores)"
   ]
  },
  {
   "cell_type": "markdown",
   "metadata": {},
   "source": [
    "**Подберите порог отсечения, максимизирующий accuracy в процессе кросс-валидации**"
   ]
  },
  {
   "cell_type": "code",
   "execution_count": 24,
   "metadata": {
    "collapsed": false
   },
   "outputs": [],
   "source": [
    "thresholds = np.arange(0, 1.0, 0.025)\n",
    "results = []\n",
    "\n",
    "rf = RandomForestClassifier(max_depth=7,\n",
    "                            min_samples_leaf=5,\n",
    "                            n_estimators=10)\n",
    "\n",
    "for thres in thresholds:\n",
    "    folds = StratifiedKFold(y_valid, n_folds=5, random_state=42)\n",
    "    scores = []\n",
    "    for train_index, test_index in folds:\n",
    "        x_train, x_test = X_valid[train_index, :], \\\n",
    "                          X_valid[test_index, :]\n",
    "        y_train, y_test = y_valid[train_index], y_valid[test_index]\n",
    "        rf.fit(x_train, y_train)\n",
    "        y_pred = (1 - rf.predict_proba(x_test)[:,0] \\\n",
    "                                   >= thres).astype(int)\n",
    "        if len(np.unique(y_pred)) > 1:\n",
    "            scores.append(roc_auc_score(y_pred, y_test))\n",
    "        else:\n",
    "            scores.append(0)\n",
    "    results.append(np.mean(scores))"
   ]
  },
  {
   "cell_type": "code",
   "execution_count": 25,
   "metadata": {
    "collapsed": false
   },
   "outputs": [
    {
     "data": {
      "text/plain": [
       "(0.84324324285446828, 0.67500000000000004)"
      ]
     },
     "execution_count": 25,
     "metadata": {},
     "output_type": "execute_result"
    },
    {
     "data": {
      "image/png": "[encoded data removed]",
      "text/plain": [
       "<matplotlib.figure.Figure at 0x10b8b2050>"
      ]
     },
     "metadata": {},
     "output_type": "display_data"
    }
   ],
   "source": [
    "plot(thresholds, results)\n",
    "rf_valid_auc_thres = max(results)\n",
    "rf_valid_auc_thres, thresholds[np.argmax(results)]"
   ]
  },
  {
   "cell_type": "markdown",
   "metadata": {},
   "source": [
    "**Сохраним предсказания модели в процессе 3-кратной кросс-валидации и проверим модель на X_holdout**"
   ]
  },
  {
   "cell_type": "code",
   "execution_count": 26,
   "metadata": {
    "collapsed": false
   },
   "outputs": [],
   "source": [
    "rf = RandomForestClassifier(max_depth=7,\n",
    "                            min_samples_leaf=5,\n",
    "                            n_estimators=10)\n",
    "rf_predictions = []\n",
    "\n",
    "folds = StratifiedKFold(y_valid, n_folds=3, random_state=42)\n",
    "\n",
    "for train_index, test_index in folds:\n",
    "    x_train, x_test = X_valid[train_index, :], \\\n",
    "                          X_valid[test_index, :]\n",
    "    y_train, y_test = y_valid[train_index], y_valid[test_index]\n",
    "    rf.fit(x_train, y_train)\n",
    "    y_pred = 1 - rf.predict_proba(x_test)[:,0] - 0.675\n",
    "    rf_predictions.extend(y_pred)"
   ]
  },
  {
   "cell_type": "code",
   "execution_count": 27,
   "metadata": {
    "collapsed": false
   },
   "outputs": [
    {
     "data": {
      "text/plain": [
       "0.81109933373712895"
      ]
     },
     "execution_count": 27,
     "metadata": {},
     "output_type": "execute_result"
    }
   ],
   "source": [
    "rf = RandomForestClassifier(max_depth=7,\n",
    "                            min_samples_leaf=5,\n",
    "                            n_estimators=10)\n",
    "rf.fit(X_valid, y_valid)\n",
    "\n",
    "roc_auc_score((1 - rf.predict_proba(X_holdout)[:,0] \n",
    "                             - 0.675 >= 0).astype(int), y_holdout)"
   ]
  },
  {
   "cell_type": "markdown",
   "metadata": {},
   "source": [
    "## Составим матрицу предсказаний 3 моделей и обучим на ней RandomForestRegressor"
   ]
  },
  {
   "cell_type": "code",
   "execution_count": 49,
   "metadata": {
    "collapsed": true
   },
   "outputs": [],
   "source": [
    "level2_train = np.vstack([knn_predictions, lin_svc_predictions,\n",
    "                         rf_predictions]).T"
   ]
  },
  {
   "cell_type": "code",
   "execution_count": 50,
   "metadata": {
    "collapsed": false
   },
   "outputs": [
    {
     "data": {
      "text/plain": [
       "(712, 3)"
      ]
     },
     "execution_count": 50,
     "metadata": {},
     "output_type": "execute_result"
    }
   ],
   "source": [
    "level2_train.shape"
   ]
  },
  {
   "cell_type": "code",
   "execution_count": 51,
   "metadata": {
    "collapsed": false
   },
   "outputs": [
    {
     "data": {
      "text/plain": [
       "array([[-0.12058824, -0.58209736, -0.21414551],\n",
       "       [-0.59117647, -1.04814399, -0.6299358 ],\n",
       "       [-0.59117647, -1.07244149, -0.5405145 ],\n",
       "       [-0.17941176, -0.07174014, -0.26871184],\n",
       "       [-0.53235294, -1.48634354, -0.41910173],\n",
       "       [-0.53235294, -1.06385807, -0.51511022],\n",
       "       [-0.65      , -0.97416634, -0.58983162],\n",
       "       [-0.47352941, -0.84480246, -0.57557137],\n",
       "       [ 0.11470588,  0.17483197,  0.31388889],\n",
       "       [-0.12058824, -0.16666405, -0.24547295]])"
      ]
     },
     "execution_count": 51,
     "metadata": {},
     "output_type": "execute_result"
    }
   ],
   "source": [
    "level2_train[:10]"
   ]
  },
  {
   "cell_type": "code",
   "execution_count": 52,
   "metadata": {
    "collapsed": true
   },
   "outputs": [],
   "source": [
    "level2_rf = RandomForestRegressor(n_estimators=100, max_depth=2)"
   ]
  },
  {
   "cell_type": "code",
   "execution_count": 53,
   "metadata": {
    "collapsed": false
   },
   "outputs": [
    {
     "data": {
      "text/plain": [
       "RandomForestRegressor(bootstrap=True, criterion='mse', max_depth=2,\n",
       "           max_features='auto', max_leaf_nodes=None, min_samples_leaf=1,\n",
       "           min_samples_split=2, min_weight_fraction_leaf=0.0,\n",
       "           n_estimators=100, n_jobs=1, oob_score=False, random_state=None,\n",
       "           verbose=0, warm_start=False)"
      ]
     },
     "execution_count": 53,
     "metadata": {},
     "output_type": "execute_result"
    }
   ],
   "source": [
    "level2_rf.fit(level2_train, y_valid)"
   ]
  },
  {
   "cell_type": "code",
   "execution_count": 54,
   "metadata": {
    "collapsed": true
   },
   "outputs": [],
   "source": [
    "knn = KNeighborsClassifier(n_neighbors=17)\n",
    "lin_svc = LinearSVC(C=10 ** -1.65)\n",
    "rf = RandomForestClassifier(max_depth=7,\n",
    "                            min_samples_leaf=5,\n",
    "                            n_estimators=10)\n",
    "\n",
    "knn.fit(X_valid_scaled, y_valid_scaled)\n",
    "lin_svc.fit(X_valid, y_valid)\n",
    "rf.fit(X_valid, y_valid)\n",
    "\n",
    "ho_level2_train = np.vstack([1 - knn.predict_proba(X_holdout_scaled)[:,0] \n",
    "                             - 0.65,\n",
    "                            lin_svc.decision_function(X_holdout) - 0.3,\n",
    "                            1 - rf.predict_proba(X_holdout)[:,0] \n",
    "                             - 0.675]).T"
   ]
  },
  {
   "cell_type": "code",
   "execution_count": 55,
   "metadata": {
    "collapsed": false
   },
   "outputs": [
    {
     "data": {
      "text/plain": [
       "0.84320557491289194"
      ]
     },
     "execution_count": 55,
     "metadata": {},
     "output_type": "execute_result"
    }
   ],
   "source": [
    "stacking_holdout_pred = (level2_rf.predict(ho_level2_train) >= 0.5).astype(int)\n",
    "roc_auc_score(stacking_holdout_pred, y_holdout)"
   ]
  }
 ],
 "metadata": {
  "kernelspec": {
   "display_name": "Python 2",
   "language": "python",
   "name": "python2"
  },
  "language_info": {
   "codemirror_mode": {
    "name": "ipython",
    "version": 2
   },
   "file_extension": ".py",
   "mimetype": "text/x-python",
   "name": "python",
   "nbconvert_exporter": "python",
   "pygments_lexer": "ipython2",
   "version": "2.7.10"
  },
  "name": "practice_kaggle_titanic_blending.ipynb"
 },
 "nbformat": 4,
 "nbformat_minor": 0
}
