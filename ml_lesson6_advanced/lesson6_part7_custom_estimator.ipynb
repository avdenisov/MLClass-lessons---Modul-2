{
 "cells": [
  {
   "cell_type": "markdown",
   "metadata": {},
   "source": [
    "# MLClass. \"Прикладной анализ данных\"\n",
    "# Модуль \"Машинное обучение с помощью Python\"\n",
    "<img src=\"../img/mlclass_logo.jpg\" height=\"240\" width=\"240\">\n",
    "## Автор материала: преподаватель ФКН НИУ ВШЭ Кашницкий Юрий\n",
    "Материал распространяется на условиях лицензии <a href=\"http://creativecommons.org/licenses/by-sa/4.0/\">Creative Commons Attribution-Share Alike 4.0</a>. Можно использовать в любых целях, но с обязательным упоминанием автора курса и аффилиации."
   ]
  },
  {
   "cell_type": "markdown",
   "metadata": {},
   "source": [
    "# Урок 6. Нейронные сети. Бустинг. Смешивание алгоритмов. Стекинг.\n",
    "## Часть 7. Использование API Scikit-learn"
   ]
  },
  {
   "cell_type": "code",
   "execution_count": 1,
   "metadata": {
    "collapsed": true
   },
   "outputs": [],
   "source": [
    "import numpy as np\n",
    "import pandas as pd\n",
    "from sklearn.ensemble import RandomForestClassifier\n",
    "from sklearn.base import BaseEstimator\n",
    "from sklearn.ensemble import GradientBoostingClassifier\n",
    "from sklearn.linear_model import LogisticRegression\n",
    "from sklearn.grid_search import GridSearchCV\n",
    "from load_titanic_with_features import load_titanic\n",
    "from sklearn import cross_validation\n",
    "\n",
    "class MyBlackBox(BaseEstimator):\n",
    "    def __init__(self, base_classifiers={GradientBoostingClassifier(): {},\n",
    "                                        RandomForestClassifier(): {},\n",
    "                                        LogisticRegression(): {}},\n",
    "                                        verbose=True, n_jobs=4, cv=5):\n",
    "        self.base_classifiers = base_classifiers\n",
    "        self.verbose = verbose\n",
    "        self.n_jobs = n_jobs\n",
    "        self.cv = cv\n",
    "\n",
    "    def get_params(self, deep=True):\n",
    "        return BaseEstimator.get_params(self, deep=deep)\n",
    "\n",
    "    def set_params(self, **params):\n",
    "        return BaseEstimator.set_params(self, **params)\n",
    "\n",
    "    def fit(self, X, y):\n",
    "        self.clf_weights = {}\n",
    "        for clf in self.base_classifiers:\n",
    "            print(clf)\n",
    "            params = self.base_classifiers[clf]\n",
    "            current_best_clf = GridSearchCV(clf,\n",
    "                                 params,\n",
    "                                 verbose=self.verbose, n_jobs=self.n_jobs, cv=self.cv)\n",
    "            current_best_clf.fit(X, y)\n",
    "            self.clf_weights[current_best_clf.best_estimator_] = current_best_clf.best_score_\n",
    "        print(self.clf_weights)\n",
    "\n",
    "    def predict(self, X):\n",
    "        final_predictions = np.zeros([X.shape[0], 1])\n",
    "        sum_clf_weights = sum(self.clf_weights.values())\n",
    "        clf_weights = [weight / sum_clf_weights\n",
    "                       for weight in self.clf_weights.values()]\n",
    "\n",
    "        for clf in self.clf_weights:\n",
    "            final_predictions += self.clf_weights[clf] / sum_clf_weights * clf.predict(X).reshape([X.shape[0], 1])\n",
    "        # print(final_predictions)\n",
    "        return (final_predictions > 0.5).astype('int64')"
   ]
  },
  {
   "cell_type": "code",
   "execution_count": null,
   "metadata": {
    "collapsed": false
   },
   "outputs": [],
   "source": [
    "X_train, y, X_test = load_titanic(\"../data/titanic_train.csv\",\n",
    "                                \"../data/titanic_test.csv\")\n",
    "\n",
    "\n",
    "forest_params = {'criterion': ('gini', 'entropy'),\n",
    "                 'n_estimators': list(range(50, 300, 50)),\n",
    "                 'max_depth': list(range(1, 5)),\n",
    "                 'min_samples_leaf': list(range(1, 5))}\n",
    "\n",
    "gboost_params = {'learning_rate': [0.1, 0.2, 0.3],\n",
    "                 'n_estimators': list(range(10, 100,20)),\n",
    "                 'max_depth': list(range(1,5)),\n",
    "                 'min_samples_leaf': list(range(1,5)),\n",
    "                 'min_samples_split': list(range(1,5))}\n",
    "\n",
    "log_reg_params = {'C': [0.1, 5, 10, 50]}\n",
    "\n",
    "clf = MyBlackBox(base_classifiers={GradientBoostingClassifier(): gboost_params,\n",
    "                                   RandomForestClassifier(): forest_params,\n",
    "                                   LogisticRegression(): log_reg_params},\n",
    "                     cv=3)\n",
    "\n",
    "clf.fit(X_train, y)\n",
    "\n",
    "scores = cross_validation.cross_val_score(clf, X_train,\n",
    "                                          y, cv=3, scoring=\"accuracy\")"
   ]
  },
  {
   "cell_type": "code",
   "execution_count": 7,
   "metadata": {
    "collapsed": false
   },
   "outputs": [
    {
     "name": "stdout",
     "output_type": "stream",
     "text": [
      "0.829405162738\n"
     ]
    }
   ],
   "source": [
    "print(np.mean(scores))\n",
    "\n",
    "predictions = clf.predict(X_test)\n",
    "\n",
    "predicted_df = pd.DataFrame(predictions,\n",
    "                            index = np.arange(892, 892 + X_test.shape[0]),\n",
    "                            columns=[\"Survived\"])\n",
    "predicted_df.to_csv(\"../output/titanic_myblackbox.csv\", \n",
    "                    index_label=\"PassengerId\")"
   ]
  },
  {
   "cell_type": "markdown",
   "metadata": {},
   "source": [
    "**У такой посылки на Kaggle результат 0.7799**"
   ]
  }
 ],
 "metadata": {
  "kernelspec": {
   "display_name": "Python 2",
   "language": "python",
   "name": "python2"
  },
  "language_info": {
   "codemirror_mode": {
    "name": "ipython",
    "version": 2
   },
   "file_extension": ".py",
   "mimetype": "text/x-python",
   "name": "python",
   "nbconvert_exporter": "python",
   "pygments_lexer": "ipython2",
   "version": "2.7.10"
  }
 },
 "nbformat": 4,
 "nbformat_minor": 0
}
